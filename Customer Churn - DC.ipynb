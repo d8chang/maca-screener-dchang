{
 "cells": [
  {
   "cell_type": "code",
   "execution_count": 1,
   "id": "1c5561a2",
   "metadata": {},
   "outputs": [],
   "source": [
    "%matplotlib inline\n",
    "import pandas as pd\n",
    "import matplotlib.pyplot as plt\n",
    "import seaborn as sns\n",
    "import numpy as np\n",
    "df_train_raw = pd.read_csv('data/customer_churn_dataset-testing-master.csv')\n",
    "df_test_raw = pd.read_csv('data/customer_churn_dataset-testing-master.csv')\n",
    "df_train_raw.columns = ['id', 'age', 'gender', 'tenure', 'frequency', 'calls', 'delay', \n",
    "                        'subscription', 'contractlength', 'spend', 'lastinteraction', 'churn']\n",
    "df_test_raw.columns = ['id', 'age', 'gender', 'tenure', 'frequency', 'calls', 'delay', \n",
    "                       'subscription', 'contractlength', 'spend', 'lastinteraction', 'churn']"
   ]
  },
  {
   "cell_type": "code",
   "execution_count": 2,
   "id": "b475f148",
   "metadata": {},
   "outputs": [
    {
     "data": {
      "text/plain": [
       "0.8725789626826231"
      ]
     },
     "execution_count": 2,
     "metadata": {},
     "output_type": "execute_result"
    }
   ],
   "source": [
    "len(df_train_raw)/(len(df_train_raw) + len(df_test_raw))"
   ]
  },
  {
   "cell_type": "markdown",
   "id": "c69538f6",
   "metadata": {},
   "source": [
    "Dataset is split ~87% training, ~13% testing"
   ]
  },
  {
   "cell_type": "markdown",
   "id": "48288f8c",
   "metadata": {},
   "source": [
    "##### Fields (with assumptions of interpretation):\n",
    "    \n",
    "* Customer ID\n",
    "* Age - customer's age\n",
    "* Gender - customer's gender\n",
    "* Tenure - how long the customer has been on the product (maybe in months)\n",
    "* Usage Frequency - how often the product is used on a certain time cadence (maybe number of days in a month)\n",
    "* Support Calls - number of support calls customer had with company\n",
    "* Payment Delay - number of days customer was late in paying for the product\n",
    "* Subscription Type - the plan the customer's on\n",
    "* Contract length - contract type\n",
    "* Total Spend - amount customer spent\n",
    "* Last Interaction - number of days since last interaction with customer\n",
    "* Churn - whether the customer churned or not"
   ]
  },
  {
   "cell_type": "markdown",
   "id": "bb3b11c6",
   "metadata": {},
   "source": [
    "## Data Cleaning "
   ]
  },
  {
   "cell_type": "markdown",
   "id": "e9afbf86",
   "metadata": {},
   "source": [
    "### Training Set Cleaning"
   ]
  },
  {
   "cell_type": "code",
   "execution_count": 3,
   "id": "bd83a81b",
   "metadata": {},
   "outputs": [
    {
     "data": {
      "text/plain": [
       "440833"
      ]
     },
     "execution_count": 3,
     "metadata": {},
     "output_type": "execute_result"
    }
   ],
   "source": [
    "# check if id is unique - number of rows is 1 greater than number of unique ids\n",
    "df_train_raw['id'].nunique()\n",
    "len(df_train_raw)"
   ]
  },
  {
   "cell_type": "code",
   "execution_count": 4,
   "id": "55a3b812",
   "metadata": {},
   "outputs": [],
   "source": [
    "# check for blank rows, any NAs/blanks"
   ]
  },
  {
   "cell_type": "code",
   "execution_count": 5,
   "id": "38d8995c",
   "metadata": {},
   "outputs": [
    {
     "data": {
      "text/plain": [
       "True"
      ]
     },
     "execution_count": 5,
     "metadata": {},
     "output_type": "execute_result"
    }
   ],
   "source": [
    "# check for any entry that's null\n",
    "df_train_raw.isnull().values.any()"
   ]
  },
  {
   "cell_type": "code",
   "execution_count": 6,
   "id": "815f9e84",
   "metadata": {},
   "outputs": [
    {
     "data": {
      "text/plain": [
       "id                 True\n",
       "age                True\n",
       "gender             True\n",
       "tenure             True\n",
       "frequency          True\n",
       "calls              True\n",
       "delay              True\n",
       "subscription       True\n",
       "contractlength     True\n",
       "spend              True\n",
       "lastinteraction    True\n",
       "churn              True\n",
       "dtype: bool"
      ]
     },
     "execution_count": 6,
     "metadata": {},
     "output_type": "execute_result"
    }
   ],
   "source": [
    "# check which columns have null values\n",
    "df_train_raw.isnull().any()"
   ]
  },
  {
   "cell_type": "code",
   "execution_count": 7,
   "id": "d1d927ac",
   "metadata": {},
   "outputs": [
    {
     "data": {
      "text/plain": [
       "id                 1\n",
       "age                1\n",
       "gender             1\n",
       "tenure             1\n",
       "frequency          1\n",
       "calls              1\n",
       "delay              1\n",
       "subscription       1\n",
       "contractlength     1\n",
       "spend              1\n",
       "lastinteraction    1\n",
       "churn              1\n",
       "dtype: int64"
      ]
     },
     "execution_count": 7,
     "metadata": {},
     "output_type": "execute_result"
    }
   ],
   "source": [
    "# check how many rows for each column have null values\n",
    "df_train_raw.isnull().sum()"
   ]
  },
  {
   "cell_type": "code",
   "execution_count": 8,
   "id": "0b78dfe4",
   "metadata": {},
   "outputs": [
    {
     "data": {
      "text/html": [
       "<div>\n",
       "<style scoped>\n",
       "    .dataframe tbody tr th:only-of-type {\n",
       "        vertical-align: middle;\n",
       "    }\n",
       "\n",
       "    .dataframe tbody tr th {\n",
       "        vertical-align: top;\n",
       "    }\n",
       "\n",
       "    .dataframe thead th {\n",
       "        text-align: right;\n",
       "    }\n",
       "</style>\n",
       "<table border=\"1\" class=\"dataframe\">\n",
       "  <thead>\n",
       "    <tr style=\"text-align: right;\">\n",
       "      <th></th>\n",
       "      <th>id</th>\n",
       "      <th>age</th>\n",
       "      <th>gender</th>\n",
       "      <th>tenure</th>\n",
       "      <th>frequency</th>\n",
       "      <th>calls</th>\n",
       "      <th>delay</th>\n",
       "      <th>subscription</th>\n",
       "      <th>contractlength</th>\n",
       "      <th>spend</th>\n",
       "      <th>lastinteraction</th>\n",
       "      <th>churn</th>\n",
       "    </tr>\n",
       "  </thead>\n",
       "  <tbody>\n",
       "    <tr>\n",
       "      <th>199295</th>\n",
       "      <td>NaN</td>\n",
       "      <td>NaN</td>\n",
       "      <td>NaN</td>\n",
       "      <td>NaN</td>\n",
       "      <td>NaN</td>\n",
       "      <td>NaN</td>\n",
       "      <td>NaN</td>\n",
       "      <td>NaN</td>\n",
       "      <td>NaN</td>\n",
       "      <td>NaN</td>\n",
       "      <td>NaN</td>\n",
       "      <td>NaN</td>\n",
       "    </tr>\n",
       "  </tbody>\n",
       "</table>\n",
       "</div>"
      ],
      "text/plain": [
       "        id  age gender  tenure  frequency  calls  delay subscription  \\\n",
       "199295 NaN  NaN    NaN     NaN        NaN    NaN    NaN          NaN   \n",
       "\n",
       "       contractlength  spend  lastinteraction  churn  \n",
       "199295            NaN    NaN              NaN    NaN  "
      ]
     },
     "execution_count": 8,
     "metadata": {},
     "output_type": "execute_result"
    }
   ],
   "source": [
    "df_train_raw[df_train_raw.isnull().any(axis=1)]\n",
    "# All of Row 199295 is empty. Remove it"
   ]
  },
  {
   "cell_type": "code",
   "execution_count": 9,
   "id": "da160045",
   "metadata": {},
   "outputs": [],
   "source": [
    "df_train = df_train_raw.drop(199295)"
   ]
  },
  {
   "cell_type": "markdown",
   "id": "911e78fa",
   "metadata": {},
   "source": [
    "Now that the one empty row is removed, the number of unique customer ids matches the total number of rows. Next, check each field's distinct values to ensure data types are consistent and no other data quality issues found. "
   ]
  },
  {
   "cell_type": "code",
   "execution_count": 10,
   "id": "6a1656e1",
   "metadata": {},
   "outputs": [
    {
     "data": {
      "text/plain": [
       "array([18.,  8.,  7., 26., 16., 15.,  4., 11., 30., 25., 13., 22.,  5.,\n",
       "       14.,  3., 10., 28.,  2.,  6., 27., 12., 29., 17., 24.,  9., 23.,\n",
       "       21.,  1.,  0., 20., 19.])"
      ]
     },
     "execution_count": 10,
     "metadata": {},
     "output_type": "execute_result"
    }
   ],
   "source": [
    "df_train['delay'].unique()"
   ]
  },
  {
   "cell_type": "markdown",
   "id": "f3db6517",
   "metadata": {},
   "source": [
    "The one empty row was the only cleaning done - all other fields are fine. Now we move to the test set."
   ]
  },
  {
   "cell_type": "markdown",
   "id": "4c036eda",
   "metadata": {},
   "source": [
    "### Test Set Cleaning"
   ]
  },
  {
   "cell_type": "code",
   "execution_count": 11,
   "id": "3af6c867",
   "metadata": {},
   "outputs": [
    {
     "data": {
      "text/plain": [
       "64374"
      ]
     },
     "execution_count": 11,
     "metadata": {},
     "output_type": "execute_result"
    }
   ],
   "source": [
    "df_test_raw['id'].nunique()\n",
    "len(df_test_raw)\n",
    "# the number of rows matches the number of unique customers - no blank ids here"
   ]
  },
  {
   "cell_type": "code",
   "execution_count": 12,
   "id": "53fe36ef",
   "metadata": {},
   "outputs": [
    {
     "data": {
      "text/plain": [
       "True"
      ]
     },
     "execution_count": 12,
     "metadata": {},
     "output_type": "execute_result"
    }
   ],
   "source": [
    "df_test_raw.isnull().values.any()"
   ]
  },
  {
   "cell_type": "markdown",
   "id": "59f4b89f",
   "metadata": {},
   "source": [
    "Similar as with the training set, check for unique values for each field to see if there are missing/inconsistent values."
   ]
  },
  {
   "cell_type": "markdown",
   "id": "1a77f46c",
   "metadata": {},
   "source": [
    "#### Age"
   ]
  },
  {
   "cell_type": "code",
   "execution_count": 13,
   "id": "0130e72f",
   "metadata": {},
   "outputs": [
    {
     "data": {
      "text/plain": [
       "array(['22', '41', '47', '35', '53', '30', '54', '36', '65', '46', '56',\n",
       "       '31', '42', '59', '29', '45', '62', '48', '55', '64', '25', '44',\n",
       "       '28', '34', '24', '27', '61', '57', '37', '51', '18', '23', '60',\n",
       "       '40', '26', '52', nan, '43', '19', '58', '33', '20', '39', '32',\n",
       "       '38', '21', '63', '49', '50', 'Twenty-nine', '0', 'sixty',\n",
       "       'forty-seven', 'fifty eight', 'twenty five', 'twenty seven',\n",
       "       'forty six'], dtype=object)"
      ]
     },
     "execution_count": 13,
     "metadata": {},
     "output_type": "execute_result"
    }
   ],
   "source": [
    "#check each field to see distinct values to see whether there's null and what needs to be cleaned\n",
    "df_test_raw['age'].unique()"
   ]
  },
  {
   "cell_type": "code",
   "execution_count": 14,
   "id": "9a85898c",
   "metadata": {},
   "outputs": [],
   "source": [
    "# correct age that are in text form vs as a number\n",
    "non_numeric_ages = df_test_raw[df_test_raw['age'].astype(str).str.contains(r'[^0-9]', na=True)]\n",
    "df_test_raw.loc[df_test_raw['age'] == 'Twenty-nine','age'] = 29\n",
    "df_test_raw.loc[df_test_raw['age'] == 'sixty','age'] = 60\n",
    "df_test_raw.loc[df_test_raw['age'] == 'forty-seven','age'] = 47\n",
    "df_test_raw.loc[df_test_raw['age'] == 'fifty eight','age'] = 58\n",
    "df_test_raw.loc[df_test_raw['age'] == 'twenty five','age'] = 25\n",
    "df_test_raw.loc[df_test_raw['age'] == 'twenty seven','age'] = 27\n",
    "df_test_raw.loc[df_test_raw['age'] == 'forty six','age'] = 46"
   ]
  },
  {
   "cell_type": "code",
   "execution_count": 15,
   "id": "43858129",
   "metadata": {},
   "outputs": [],
   "source": [
    "# df_test_raw['age'].value_counts(normalize=True) * 100"
   ]
  },
  {
   "cell_type": "code",
   "execution_count": 16,
   "id": "911c8123",
   "metadata": {},
   "outputs": [
    {
     "data": {
      "text/html": [
       "<div>\n",
       "<style scoped>\n",
       "    .dataframe tbody tr th:only-of-type {\n",
       "        vertical-align: middle;\n",
       "    }\n",
       "\n",
       "    .dataframe tbody tr th {\n",
       "        vertical-align: top;\n",
       "    }\n",
       "\n",
       "    .dataframe thead th {\n",
       "        text-align: right;\n",
       "    }\n",
       "</style>\n",
       "<table border=\"1\" class=\"dataframe\">\n",
       "  <thead>\n",
       "    <tr style=\"text-align: right;\">\n",
       "      <th></th>\n",
       "      <th>id</th>\n",
       "      <th>age</th>\n",
       "      <th>gender</th>\n",
       "      <th>tenure</th>\n",
       "      <th>frequency</th>\n",
       "      <th>calls</th>\n",
       "      <th>delay</th>\n",
       "      <th>subscription</th>\n",
       "      <th>contractlength</th>\n",
       "      <th>spend</th>\n",
       "      <th>lastinteraction</th>\n",
       "      <th>churn</th>\n",
       "    </tr>\n",
       "  </thead>\n",
       "  <tbody>\n",
       "    <tr>\n",
       "      <th>71</th>\n",
       "      <td>72</td>\n",
       "      <td>NaN</td>\n",
       "      <td>Female</td>\n",
       "      <td>34</td>\n",
       "      <td>20</td>\n",
       "      <td>1</td>\n",
       "      <td>1</td>\n",
       "      <td>Basic</td>\n",
       "      <td>Annual</td>\n",
       "      <td>986</td>\n",
       "      <td>19</td>\n",
       "      <td>0</td>\n",
       "    </tr>\n",
       "    <tr>\n",
       "      <th>104</th>\n",
       "      <td>105</td>\n",
       "      <td>NaN</td>\n",
       "      <td>Male</td>\n",
       "      <td>10</td>\n",
       "      <td>22</td>\n",
       "      <td>9</td>\n",
       "      <td>0</td>\n",
       "      <td>Standard</td>\n",
       "      <td>Quarterly</td>\n",
       "      <td>218</td>\n",
       "      <td>7</td>\n",
       "      <td>0</td>\n",
       "    </tr>\n",
       "    <tr>\n",
       "      <th>385</th>\n",
       "      <td>386</td>\n",
       "      <td>NaN</td>\n",
       "      <td>Female</td>\n",
       "      <td>41</td>\n",
       "      <td>15</td>\n",
       "      <td>10</td>\n",
       "      <td>27</td>\n",
       "      <td>Premium</td>\n",
       "      <td>Quarterly</td>\n",
       "      <td>814</td>\n",
       "      <td>19</td>\n",
       "      <td>1</td>\n",
       "    </tr>\n",
       "    <tr>\n",
       "      <th>432</th>\n",
       "      <td>433</td>\n",
       "      <td>NaN</td>\n",
       "      <td>Female</td>\n",
       "      <td>9</td>\n",
       "      <td>19</td>\n",
       "      <td>4</td>\n",
       "      <td>26</td>\n",
       "      <td>Basic</td>\n",
       "      <td>Annual</td>\n",
       "      <td>805</td>\n",
       "      <td>21</td>\n",
       "      <td>0</td>\n",
       "    </tr>\n",
       "    <tr>\n",
       "      <th>491</th>\n",
       "      <td>492</td>\n",
       "      <td>NaN</td>\n",
       "      <td>Female</td>\n",
       "      <td>44</td>\n",
       "      <td>30</td>\n",
       "      <td>2</td>\n",
       "      <td>30</td>\n",
       "      <td>Standard</td>\n",
       "      <td>Annual</td>\n",
       "      <td>844</td>\n",
       "      <td>23</td>\n",
       "      <td>0</td>\n",
       "    </tr>\n",
       "    <tr>\n",
       "      <th>536</th>\n",
       "      <td>537</td>\n",
       "      <td>NaN</td>\n",
       "      <td>Female</td>\n",
       "      <td>4</td>\n",
       "      <td>15</td>\n",
       "      <td>7</td>\n",
       "      <td>13</td>\n",
       "      <td>Premium</td>\n",
       "      <td>Quarterly</td>\n",
       "      <td>344</td>\n",
       "      <td>23</td>\n",
       "      <td>0</td>\n",
       "    </tr>\n",
       "  </tbody>\n",
       "</table>\n",
       "</div>"
      ],
      "text/plain": [
       "      id  age  gender  tenure  frequency calls  delay subscription  \\\n",
       "71    72  NaN  Female      34         20     1      1        Basic   \n",
       "104  105  NaN    Male      10         22     9      0     Standard   \n",
       "385  386  NaN  Female      41         15    10     27      Premium   \n",
       "432  433  NaN  Female       9         19     4     26        Basic   \n",
       "491  492  NaN  Female      44         30     2     30     Standard   \n",
       "536  537  NaN  Female       4         15     7     13      Premium   \n",
       "\n",
       "    contractlength  spend  lastinteraction  churn  \n",
       "71          Annual    986               19      0  \n",
       "104      Quarterly    218                7      0  \n",
       "385      Quarterly    814               19      1  \n",
       "432         Annual    805               21      0  \n",
       "491         Annual    844               23      0  \n",
       "536      Quarterly    344               23      0  "
      ]
     },
     "execution_count": 16,
     "metadata": {},
     "output_type": "execute_result"
    }
   ],
   "source": [
    "df_test_raw[df_test_raw['age'].astype(str).str.contains(r'[^0-9]', na=True)]"
   ]
  },
  {
   "cell_type": "code",
   "execution_count": 17,
   "id": "87a82cb4",
   "metadata": {},
   "outputs": [],
   "source": [
    "# For the NAs, only 6/64k are NAs/blank - dropped these rows\n",
    "\n",
    "df_test_raw = df_test_raw.drop(df_test_raw[df_test_raw['age'].isnull()].index.tolist())\n",
    "\n",
    "# convert to numeric field\n",
    "df_test_raw['age'] = pd.to_numeric(df_test_raw['age'], errors='coerce')"
   ]
  },
  {
   "cell_type": "markdown",
   "id": "a1c745b8",
   "metadata": {},
   "source": [
    "For age, the values that are in text form were converted to a number, and the rows with blank ages were dropped since they make up less than 0.01% of the dataset. The field was then converted to numeric."
   ]
  },
  {
   "cell_type": "markdown",
   "id": "261f61ce",
   "metadata": {},
   "source": [
    "#### Gender"
   ]
  },
  {
   "cell_type": "code",
   "execution_count": 18,
   "id": "66a14955",
   "metadata": {},
   "outputs": [
    {
     "data": {
      "text/plain": [
       "array(['Female', 'Male', 'Man', 'Woman'], dtype=object)"
      ]
     },
     "execution_count": 18,
     "metadata": {},
     "output_type": "execute_result"
    }
   ],
   "source": [
    "# gender\n",
    "df_test_raw['gender'].unique()"
   ]
  },
  {
   "cell_type": "code",
   "execution_count": 19,
   "id": "222bf52e",
   "metadata": {},
   "outputs": [],
   "source": [
    "# correct gender values - Man -> Male, Woman -> Female - 2 rows updated\n",
    "df_test_raw.loc[df_test_raw['gender'] == 'Woman', 'gender'] = 'Female'\n",
    "df_test_raw.loc[df_test_raw['gender'] == 'Man', 'gender'] = 'Male'"
   ]
  },
  {
   "cell_type": "markdown",
   "id": "6a11627c",
   "metadata": {},
   "source": [
    "For gender, there were 4 values which could be condensed into 2. The values \"Woman\" and \"Man\" were set to \"Female\" and \"Male,\" respectively - 2 rows were updated."
   ]
  },
  {
   "cell_type": "markdown",
   "id": "72e4b68a",
   "metadata": {},
   "source": [
    "#### Support Calls"
   ]
  },
  {
   "cell_type": "code",
   "execution_count": 20,
   "id": "9b5d3055",
   "metadata": {},
   "outputs": [
    {
     "data": {
      "text/plain": [
       "array(['4', '7', '2', '5', '9', '10', '0', '6', '1', '3', '8', nan, 'two',\n",
       "       'none', 'seven', '10+', 'nine'], dtype=object)"
      ]
     },
     "execution_count": 20,
     "metadata": {},
     "output_type": "execute_result"
    }
   ],
   "source": [
    "# support calls\n",
    "df_test_raw['calls'].unique()"
   ]
  },
  {
   "cell_type": "code",
   "execution_count": 21,
   "id": "bf56b140",
   "metadata": {},
   "outputs": [
    {
     "data": {
      "text/html": [
       "<div>\n",
       "<style scoped>\n",
       "    .dataframe tbody tr th:only-of-type {\n",
       "        vertical-align: middle;\n",
       "    }\n",
       "\n",
       "    .dataframe tbody tr th {\n",
       "        vertical-align: top;\n",
       "    }\n",
       "\n",
       "    .dataframe thead th {\n",
       "        text-align: right;\n",
       "    }\n",
       "</style>\n",
       "<table border=\"1\" class=\"dataframe\">\n",
       "  <thead>\n",
       "    <tr style=\"text-align: right;\">\n",
       "      <th></th>\n",
       "      <th>id</th>\n",
       "      <th>age</th>\n",
       "      <th>gender</th>\n",
       "      <th>tenure</th>\n",
       "      <th>frequency</th>\n",
       "      <th>calls</th>\n",
       "      <th>delay</th>\n",
       "      <th>subscription</th>\n",
       "      <th>contractlength</th>\n",
       "      <th>spend</th>\n",
       "      <th>lastinteraction</th>\n",
       "      <th>churn</th>\n",
       "    </tr>\n",
       "  </thead>\n",
       "  <tbody>\n",
       "    <tr>\n",
       "      <th>72</th>\n",
       "      <td>73</td>\n",
       "      <td>52</td>\n",
       "      <td>Female</td>\n",
       "      <td>5</td>\n",
       "      <td>12</td>\n",
       "      <td>NaN</td>\n",
       "      <td>23</td>\n",
       "      <td>Basic</td>\n",
       "      <td>Annual</td>\n",
       "      <td>844</td>\n",
       "      <td>12</td>\n",
       "      <td>0</td>\n",
       "    </tr>\n",
       "    <tr>\n",
       "      <th>91</th>\n",
       "      <td>92</td>\n",
       "      <td>37</td>\n",
       "      <td>Female</td>\n",
       "      <td>57</td>\n",
       "      <td>21</td>\n",
       "      <td>NaN</td>\n",
       "      <td>6</td>\n",
       "      <td>Premium</td>\n",
       "      <td>Quarterly</td>\n",
       "      <td>209</td>\n",
       "      <td>29</td>\n",
       "      <td>0</td>\n",
       "    </tr>\n",
       "    <tr>\n",
       "      <th>111</th>\n",
       "      <td>112</td>\n",
       "      <td>41</td>\n",
       "      <td>Male</td>\n",
       "      <td>8</td>\n",
       "      <td>11</td>\n",
       "      <td>NaN</td>\n",
       "      <td>24</td>\n",
       "      <td>Premium</td>\n",
       "      <td>Monthly</td>\n",
       "      <td>900</td>\n",
       "      <td>14</td>\n",
       "      <td>0</td>\n",
       "    </tr>\n",
       "    <tr>\n",
       "      <th>130</th>\n",
       "      <td>131</td>\n",
       "      <td>61</td>\n",
       "      <td>Male</td>\n",
       "      <td>6</td>\n",
       "      <td>15</td>\n",
       "      <td>two</td>\n",
       "      <td>30</td>\n",
       "      <td>Premium</td>\n",
       "      <td>Annual</td>\n",
       "      <td>630</td>\n",
       "      <td>18</td>\n",
       "      <td>0</td>\n",
       "    </tr>\n",
       "    <tr>\n",
       "      <th>144</th>\n",
       "      <td>145</td>\n",
       "      <td>24</td>\n",
       "      <td>Male</td>\n",
       "      <td>8</td>\n",
       "      <td>12</td>\n",
       "      <td>none</td>\n",
       "      <td>15</td>\n",
       "      <td>Basic</td>\n",
       "      <td>Annual</td>\n",
       "      <td>257</td>\n",
       "      <td>18</td>\n",
       "      <td>0</td>\n",
       "    </tr>\n",
       "    <tr>\n",
       "      <th>160</th>\n",
       "      <td>161</td>\n",
       "      <td>36</td>\n",
       "      <td>Male</td>\n",
       "      <td>51</td>\n",
       "      <td>1</td>\n",
       "      <td>NaN</td>\n",
       "      <td>7</td>\n",
       "      <td>Premium</td>\n",
       "      <td>Annual</td>\n",
       "      <td>837</td>\n",
       "      <td>16</td>\n",
       "      <td>0</td>\n",
       "    </tr>\n",
       "    <tr>\n",
       "      <th>172</th>\n",
       "      <td>173</td>\n",
       "      <td>57</td>\n",
       "      <td>Male</td>\n",
       "      <td>5</td>\n",
       "      <td>13</td>\n",
       "      <td>seven</td>\n",
       "      <td>3</td>\n",
       "      <td>Basic</td>\n",
       "      <td>Quarterly</td>\n",
       "      <td>821</td>\n",
       "      <td>16</td>\n",
       "      <td>0</td>\n",
       "    </tr>\n",
       "    <tr>\n",
       "      <th>180</th>\n",
       "      <td>181</td>\n",
       "      <td>45</td>\n",
       "      <td>Male</td>\n",
       "      <td>40</td>\n",
       "      <td>10</td>\n",
       "      <td>10+</td>\n",
       "      <td>28</td>\n",
       "      <td>Premium</td>\n",
       "      <td>Annual</td>\n",
       "      <td>912</td>\n",
       "      <td>8</td>\n",
       "      <td>1</td>\n",
       "    </tr>\n",
       "    <tr>\n",
       "      <th>193</th>\n",
       "      <td>194</td>\n",
       "      <td>41</td>\n",
       "      <td>Female</td>\n",
       "      <td>58</td>\n",
       "      <td>24</td>\n",
       "      <td>nine</td>\n",
       "      <td>16</td>\n",
       "      <td>Standard</td>\n",
       "      <td>Annual</td>\n",
       "      <td>447</td>\n",
       "      <td>20</td>\n",
       "      <td>1</td>\n",
       "    </tr>\n",
       "    <tr>\n",
       "      <th>208</th>\n",
       "      <td>209</td>\n",
       "      <td>64</td>\n",
       "      <td>Male</td>\n",
       "      <td>13</td>\n",
       "      <td>20</td>\n",
       "      <td>NaN</td>\n",
       "      <td>22</td>\n",
       "      <td>Standard</td>\n",
       "      <td>Quarterly</td>\n",
       "      <td>749</td>\n",
       "      <td>14</td>\n",
       "      <td>0</td>\n",
       "    </tr>\n",
       "    <tr>\n",
       "      <th>434</th>\n",
       "      <td>435</td>\n",
       "      <td>29</td>\n",
       "      <td>Female</td>\n",
       "      <td>33</td>\n",
       "      <td>2</td>\n",
       "      <td>NaN</td>\n",
       "      <td>13</td>\n",
       "      <td>Premium</td>\n",
       "      <td>Quarterly</td>\n",
       "      <td>190</td>\n",
       "      <td>9</td>\n",
       "      <td>0</td>\n",
       "    </tr>\n",
       "  </tbody>\n",
       "</table>\n",
       "</div>"
      ],
      "text/plain": [
       "      id  age  gender  tenure  frequency  calls  delay subscription  \\\n",
       "72    73   52  Female       5         12    NaN     23        Basic   \n",
       "91    92   37  Female      57         21    NaN      6      Premium   \n",
       "111  112   41    Male       8         11    NaN     24      Premium   \n",
       "130  131   61    Male       6         15    two     30      Premium   \n",
       "144  145   24    Male       8         12   none     15        Basic   \n",
       "160  161   36    Male      51          1    NaN      7      Premium   \n",
       "172  173   57    Male       5         13  seven      3        Basic   \n",
       "180  181   45    Male      40         10    10+     28      Premium   \n",
       "193  194   41  Female      58         24   nine     16     Standard   \n",
       "208  209   64    Male      13         20    NaN     22     Standard   \n",
       "434  435   29  Female      33          2    NaN     13      Premium   \n",
       "\n",
       "    contractlength  spend  lastinteraction  churn  \n",
       "72          Annual    844               12      0  \n",
       "91       Quarterly    209               29      0  \n",
       "111        Monthly    900               14      0  \n",
       "130         Annual    630               18      0  \n",
       "144         Annual    257               18      0  \n",
       "160         Annual    837               16      0  \n",
       "172      Quarterly    821               16      0  \n",
       "180         Annual    912                8      1  \n",
       "193         Annual    447               20      1  \n",
       "208      Quarterly    749               14      0  \n",
       "434      Quarterly    190                9      0  "
      ]
     },
     "execution_count": 21,
     "metadata": {},
     "output_type": "execute_result"
    }
   ],
   "source": [
    "# correct support calls - 10+, n/a, nine, none, seven two, blank...\n",
    "# nonumeric calls\n",
    "df_test_raw[df_test_raw['calls'].astype(str).str.contains(r'[^0-9]', na=True)]"
   ]
  },
  {
   "cell_type": "code",
   "execution_count": 22,
   "id": "87a3b118",
   "metadata": {},
   "outputs": [],
   "source": [
    "df_test_raw.loc[df_test_raw['calls'] == 'two', 'calls'] = 2\n",
    "df_test_raw.loc[df_test_raw['calls'] == 'none', 'calls'] = 0\n",
    "df_test_raw.loc[df_test_raw['calls'] == 'seven', 'calls'] = 7\n",
    "df_test_raw.loc[df_test_raw['calls'] == '10+', 'calls'] = 10 # set as 10 not to lose out info \n",
    "df_test_raw.loc[df_test_raw['calls'] == 'nine', 'calls'] = 9\n",
    "# question 10+, n/a, blanks leave as is - investigate these - what do blank calls/n/a mean? just missing data"
   ]
  },
  {
   "cell_type": "code",
   "execution_count": 23,
   "id": "03c606a1",
   "metadata": {},
   "outputs": [],
   "source": [
    "#df_test_raw['calls'].value_counts(normalize=True) * 100\n",
    "# impute?"
   ]
  },
  {
   "cell_type": "code",
   "execution_count": 24,
   "id": "534f9484",
   "metadata": {},
   "outputs": [],
   "source": [
    "# drop the blanks since only 6/64k -> less than 0.1% of whole dataset\n",
    "df_test_raw = df_test_raw.drop(df_test_raw[df_test_raw['calls'].isnull()].index.tolist())\n",
    "df_test_raw['calls'] = pd.to_numeric(df_test_raw['calls'], errors='coerce')"
   ]
  },
  {
   "cell_type": "markdown",
   "id": "ede1a890",
   "metadata": {},
   "source": [
    "For calls, the values that are in text form were converted to a number. The row that had a call = \"10+\" was set to 10 since that seemed to be the max value - I didn't drop it since I also wanted to retain this information that could impact churn. The 6 rows with blank calls were dropped since they make up less than 0.01% of the dataset.The field was then converted to numeric."
   ]
  },
  {
   "cell_type": "markdown",
   "id": "90dddc93",
   "metadata": {},
   "source": [
    "#### Subscription Type"
   ]
  },
  {
   "cell_type": "code",
   "execution_count": 25,
   "id": "c2056ea0",
   "metadata": {},
   "outputs": [
    {
     "data": {
      "text/plain": [
       "array(['Basic', 'Standard', 'Premium', nan], dtype=object)"
      ]
     },
     "execution_count": 25,
     "metadata": {},
     "output_type": "execute_result"
    }
   ],
   "source": [
    "df_test_raw['subscription'].unique()"
   ]
  },
  {
   "cell_type": "code",
   "execution_count": 26,
   "id": "3d0d6c2f",
   "metadata": {},
   "outputs": [
    {
     "data": {
      "text/html": [
       "<div>\n",
       "<style scoped>\n",
       "    .dataframe tbody tr th:only-of-type {\n",
       "        vertical-align: middle;\n",
       "    }\n",
       "\n",
       "    .dataframe tbody tr th {\n",
       "        vertical-align: top;\n",
       "    }\n",
       "\n",
       "    .dataframe thead th {\n",
       "        text-align: right;\n",
       "    }\n",
       "</style>\n",
       "<table border=\"1\" class=\"dataframe\">\n",
       "  <thead>\n",
       "    <tr style=\"text-align: right;\">\n",
       "      <th></th>\n",
       "      <th>id</th>\n",
       "      <th>age</th>\n",
       "      <th>gender</th>\n",
       "      <th>tenure</th>\n",
       "      <th>frequency</th>\n",
       "      <th>calls</th>\n",
       "      <th>delay</th>\n",
       "      <th>subscription</th>\n",
       "      <th>contractlength</th>\n",
       "      <th>spend</th>\n",
       "      <th>lastinteraction</th>\n",
       "      <th>churn</th>\n",
       "    </tr>\n",
       "  </thead>\n",
       "  <tbody>\n",
       "    <tr>\n",
       "      <th>487</th>\n",
       "      <td>488</td>\n",
       "      <td>46</td>\n",
       "      <td>Male</td>\n",
       "      <td>11</td>\n",
       "      <td>19</td>\n",
       "      <td>2</td>\n",
       "      <td>7</td>\n",
       "      <td>NaN</td>\n",
       "      <td>Quarterly</td>\n",
       "      <td>612</td>\n",
       "      <td>8</td>\n",
       "      <td>0</td>\n",
       "    </tr>\n",
       "    <tr>\n",
       "      <th>495</th>\n",
       "      <td>496</td>\n",
       "      <td>28</td>\n",
       "      <td>Male</td>\n",
       "      <td>60</td>\n",
       "      <td>16</td>\n",
       "      <td>9</td>\n",
       "      <td>7</td>\n",
       "      <td>NaN</td>\n",
       "      <td>Monthly</td>\n",
       "      <td>494</td>\n",
       "      <td>5</td>\n",
       "      <td>0</td>\n",
       "    </tr>\n",
       "    <tr>\n",
       "      <th>501</th>\n",
       "      <td>502</td>\n",
       "      <td>45</td>\n",
       "      <td>Male</td>\n",
       "      <td>7</td>\n",
       "      <td>30</td>\n",
       "      <td>7</td>\n",
       "      <td>25</td>\n",
       "      <td>NaN</td>\n",
       "      <td>Annual</td>\n",
       "      <td>978</td>\n",
       "      <td>29</td>\n",
       "      <td>0</td>\n",
       "    </tr>\n",
       "  </tbody>\n",
       "</table>\n",
       "</div>"
      ],
      "text/plain": [
       "      id  age gender  tenure  frequency  calls  delay subscription  \\\n",
       "487  488   46   Male      11         19      2      7          NaN   \n",
       "495  496   28   Male      60         16      9      7          NaN   \n",
       "501  502   45   Male       7         30      7     25          NaN   \n",
       "\n",
       "    contractlength  spend  lastinteraction  churn  \n",
       "487      Quarterly    612                8      0  \n",
       "495        Monthly    494                5      0  \n",
       "501         Annual    978               29      0  "
      ]
     },
     "execution_count": 26,
     "metadata": {},
     "output_type": "execute_result"
    }
   ],
   "source": [
    "df_test_raw.loc[df_test_raw['subscription'].isnull()]"
   ]
  },
  {
   "cell_type": "code",
   "execution_count": 27,
   "id": "931baad1",
   "metadata": {},
   "outputs": [],
   "source": [
    "# sub type - drop rows since only 3 rows have no subscription\n",
    "df_test_raw = df_test_raw.drop(df_test_raw[df_test_raw['subscription'].isnull()].index.tolist())\n",
    "# question - why was subscription not provided?"
   ]
  },
  {
   "cell_type": "markdown",
   "id": "f613b07c",
   "metadata": {},
   "source": [
    "There were 3 rows with blank subscription - these were dropped."
   ]
  },
  {
   "cell_type": "markdown",
   "id": "f1a95045",
   "metadata": {},
   "source": [
    "#### Contract length"
   ]
  },
  {
   "cell_type": "code",
   "execution_count": 28,
   "id": "6c75feaf",
   "metadata": {},
   "outputs": [
    {
     "data": {
      "text/plain": [
       "contractlength\n",
       "Monthly         22126\n",
       "Annual          21404\n",
       "Quarterly       20826\n",
       "Q3                  1\n",
       "12 months           1\n",
       "Once a month        1\n",
       "Name: count, dtype: int64"
      ]
     },
     "execution_count": 28,
     "metadata": {},
     "output_type": "execute_result"
    }
   ],
   "source": [
    "# contract length - compare with the train set - and convert as appropriate\n",
    "# investigate the ones that are odd\n",
    "df_test_raw['contractlength'].value_counts() "
   ]
  },
  {
   "cell_type": "code",
   "execution_count": 29,
   "id": "7bb2077d",
   "metadata": {},
   "outputs": [],
   "source": [
    "# assumption: 12 months -> Annual, Once a month -> Monthly\n",
    "df_test_raw.loc[df_test_raw['contractlength'] == '12 months', 'contractlength'] = \"Annual\"\n",
    "df_test_raw.loc[df_test_raw['contractlength'] == 'Once a month', 'contractlength'] = \"Monthly\"\n",
    "\n",
    "# dropped the row with Q3 value\n",
    "df_test_raw = df_test_raw.drop(df_test_raw.loc[df_test_raw['contractlength'] == \"Q3\"].index.values.astype(int)[0])"
   ]
  },
  {
   "cell_type": "markdown",
   "id": "b19e9d75",
   "metadata": {},
   "source": [
    "The row with \"12 months\" was set to \"Annual\" and \"Once a month\" to \"Monthly.\" The row with \"Q3\" was dropped since it's hard to interpret what it represents."
   ]
  },
  {
   "cell_type": "markdown",
   "id": "1dc67a8a",
   "metadata": {},
   "source": [
    "#### All integer fields were converted to floats to match with the training set data types."
   ]
  },
  {
   "cell_type": "code",
   "execution_count": 30,
   "id": "51ca19f3",
   "metadata": {},
   "outputs": [],
   "source": [
    "m = df_test_raw.select_dtypes(np.number)\n",
    "df_test_raw[m.columns]= m.round().astype('float')"
   ]
  },
  {
   "cell_type": "code",
   "execution_count": 31,
   "id": "620f4f0e",
   "metadata": {},
   "outputs": [
    {
     "data": {
      "text/plain": [
       "id                 float64\n",
       "age                float64\n",
       "gender              object\n",
       "tenure             float64\n",
       "frequency          float64\n",
       "calls              float64\n",
       "delay              float64\n",
       "subscription        object\n",
       "contractlength      object\n",
       "spend              float64\n",
       "lastinteraction    float64\n",
       "churn              float64\n",
       "dtype: object"
      ]
     },
     "execution_count": 31,
     "metadata": {},
     "output_type": "execute_result"
    }
   ],
   "source": [
    "df_train.dtypes"
   ]
  },
  {
   "cell_type": "code",
   "execution_count": 32,
   "id": "8f997067",
   "metadata": {},
   "outputs": [
    {
     "data": {
      "text/plain": [
       "id                 float64\n",
       "age                float64\n",
       "gender              object\n",
       "tenure             float64\n",
       "frequency          float64\n",
       "calls              float64\n",
       "delay              float64\n",
       "subscription        object\n",
       "contractlength      object\n",
       "spend              float64\n",
       "lastinteraction    float64\n",
       "churn              float64\n",
       "dtype: object"
      ]
     },
     "execution_count": 32,
     "metadata": {},
     "output_type": "execute_result"
    }
   ],
   "source": [
    "df_test_raw.dtypes"
   ]
  },
  {
   "cell_type": "code",
   "execution_count": 33,
   "id": "9adbac27",
   "metadata": {},
   "outputs": [],
   "source": [
    "df_test = df_test_raw"
   ]
  },
  {
   "cell_type": "markdown",
   "id": "f4e3ab8c",
   "metadata": {},
   "source": [
    "## EDA on Training Dataset\n",
    "\n",
    "Here, I look at each variable and analyze the trend of the proportion who churn."
   ]
  },
  {
   "cell_type": "markdown",
   "id": "d2243b71",
   "metadata": {},
   "source": [
    "##### Age"
   ]
  },
  {
   "cell_type": "code",
   "execution_count": 34,
   "id": "af124dc1",
   "metadata": {},
   "outputs": [
    {
     "data": {
      "text/plain": [
       "Text(0, 0.5, '% Churn')"
      ]
     },
     "execution_count": 34,
     "metadata": {},
     "output_type": "execute_result"
    },
    {
     "data": {
      "image/png": "[encoded data removed]",
      "text/plain": [
       "<Figure size 640x480 with 1 Axes>"
      ]
     },
     "metadata": {},
     "output_type": "display_data"
    }
   ],
   "source": [
    "age_churn = pd.pivot_table(df_train[['age', 'churn']], index=['age'],values = ['churn'], \n",
    "                           aggfunc= {'churn': ['sum', 'count',]})\n",
    "age_churn.loc[:,'%'] = (age_churn['churn']['sum']/age_churn['churn']['count'])*100\n",
    "\n",
    "az = age_churn['%'].plot()\n",
    "az.set_ylabel(\"% Churn\")\n"
   ]
  },
  {
   "cell_type": "code",
   "execution_count": 35,
   "id": "ba20c119",
   "metadata": {},
   "outputs": [
    {
     "data": {
      "text/html": [
       "<div>\n",
       "<style scoped>\n",
       "    .dataframe tbody tr th:only-of-type {\n",
       "        vertical-align: middle;\n",
       "    }\n",
       "\n",
       "    .dataframe tbody tr th {\n",
       "        vertical-align: top;\n",
       "    }\n",
       "\n",
       "    .dataframe thead tr th {\n",
       "        text-align: left;\n",
       "    }\n",
       "\n",
       "    .dataframe thead tr:last-of-type th {\n",
       "        text-align: right;\n",
       "    }\n",
       "</style>\n",
       "<table border=\"1\" class=\"dataframe\">\n",
       "  <thead>\n",
       "    <tr>\n",
       "      <th></th>\n",
       "      <th colspan=\"2\" halign=\"left\">churn</th>\n",
       "      <th>%</th>\n",
       "    </tr>\n",
       "    <tr>\n",
       "      <th></th>\n",
       "      <th>count</th>\n",
       "      <th>sum</th>\n",
       "      <th></th>\n",
       "    </tr>\n",
       "    <tr>\n",
       "      <th>age</th>\n",
       "      <th></th>\n",
       "      <th></th>\n",
       "      <th></th>\n",
       "    </tr>\n",
       "  </thead>\n",
       "  <tbody>\n",
       "    <tr>\n",
       "      <th>18.0</th>\n",
       "      <td>8219</td>\n",
       "      <td>5323.0</td>\n",
       "      <td>64.764570</td>\n",
       "    </tr>\n",
       "    <tr>\n",
       "      <th>19.0</th>\n",
       "      <td>8073</td>\n",
       "      <td>5203.0</td>\n",
       "      <td>64.449399</td>\n",
       "    </tr>\n",
       "    <tr>\n",
       "      <th>20.0</th>\n",
       "      <td>9553</td>\n",
       "      <td>5123.0</td>\n",
       "      <td>53.627133</td>\n",
       "    </tr>\n",
       "    <tr>\n",
       "      <th>21.0</th>\n",
       "      <td>9574</td>\n",
       "      <td>5191.0</td>\n",
       "      <td>54.219762</td>\n",
       "    </tr>\n",
       "    <tr>\n",
       "      <th>22.0</th>\n",
       "      <td>9639</td>\n",
       "      <td>5239.0</td>\n",
       "      <td>54.352111</td>\n",
       "    </tr>\n",
       "    <tr>\n",
       "      <th>23.0</th>\n",
       "      <td>9513</td>\n",
       "      <td>5112.0</td>\n",
       "      <td>53.736991</td>\n",
       "    </tr>\n",
       "    <tr>\n",
       "      <th>24.0</th>\n",
       "      <td>9465</td>\n",
       "      <td>5194.0</td>\n",
       "      <td>54.875858</td>\n",
       "    </tr>\n",
       "    <tr>\n",
       "      <th>25.0</th>\n",
       "      <td>9647</td>\n",
       "      <td>5191.0</td>\n",
       "      <td>53.809474</td>\n",
       "    </tr>\n",
       "    <tr>\n",
       "      <th>26.0</th>\n",
       "      <td>9692</td>\n",
       "      <td>5186.0</td>\n",
       "      <td>53.508048</td>\n",
       "    </tr>\n",
       "    <tr>\n",
       "      <th>27.0</th>\n",
       "      <td>9472</td>\n",
       "      <td>5090.0</td>\n",
       "      <td>53.737331</td>\n",
       "    </tr>\n",
       "    <tr>\n",
       "      <th>28.0</th>\n",
       "      <td>9608</td>\n",
       "      <td>5178.0</td>\n",
       "      <td>53.892590</td>\n",
       "    </tr>\n",
       "    <tr>\n",
       "      <th>29.0</th>\n",
       "      <td>9571</td>\n",
       "      <td>5163.0</td>\n",
       "      <td>53.944206</td>\n",
       "    </tr>\n",
       "    <tr>\n",
       "      <th>30.0</th>\n",
       "      <td>10907</td>\n",
       "      <td>5094.0</td>\n",
       "      <td>46.703952</td>\n",
       "    </tr>\n",
       "    <tr>\n",
       "      <th>31.0</th>\n",
       "      <td>11092</td>\n",
       "      <td>5119.0</td>\n",
       "      <td>46.150379</td>\n",
       "    </tr>\n",
       "    <tr>\n",
       "      <th>32.0</th>\n",
       "      <td>10885</td>\n",
       "      <td>5043.0</td>\n",
       "      <td>46.329812</td>\n",
       "    </tr>\n",
       "    <tr>\n",
       "      <th>33.0</th>\n",
       "      <td>10990</td>\n",
       "      <td>5129.0</td>\n",
       "      <td>46.669700</td>\n",
       "    </tr>\n",
       "    <tr>\n",
       "      <th>34.0</th>\n",
       "      <td>10829</td>\n",
       "      <td>5022.0</td>\n",
       "      <td>46.375473</td>\n",
       "    </tr>\n",
       "    <tr>\n",
       "      <th>35.0</th>\n",
       "      <td>11062</td>\n",
       "      <td>5115.0</td>\n",
       "      <td>46.239378</td>\n",
       "    </tr>\n",
       "    <tr>\n",
       "      <th>36.0</th>\n",
       "      <td>11031</td>\n",
       "      <td>5127.0</td>\n",
       "      <td>46.478107</td>\n",
       "    </tr>\n",
       "    <tr>\n",
       "      <th>37.0</th>\n",
       "      <td>11024</td>\n",
       "      <td>5156.0</td>\n",
       "      <td>46.770682</td>\n",
       "    </tr>\n",
       "    <tr>\n",
       "      <th>38.0</th>\n",
       "      <td>11181</td>\n",
       "      <td>5192.0</td>\n",
       "      <td>46.435918</td>\n",
       "    </tr>\n",
       "    <tr>\n",
       "      <th>39.0</th>\n",
       "      <td>10961</td>\n",
       "      <td>5147.0</td>\n",
       "      <td>46.957394</td>\n",
       "    </tr>\n",
       "    <tr>\n",
       "      <th>40.0</th>\n",
       "      <td>12417</td>\n",
       "      <td>4980.0</td>\n",
       "      <td>40.106306</td>\n",
       "    </tr>\n",
       "    <tr>\n",
       "      <th>41.0</th>\n",
       "      <td>12314</td>\n",
       "      <td>4954.0</td>\n",
       "      <td>40.230632</td>\n",
       "    </tr>\n",
       "    <tr>\n",
       "      <th>42.0</th>\n",
       "      <td>12578</td>\n",
       "      <td>5024.0</td>\n",
       "      <td>39.942757</td>\n",
       "    </tr>\n",
       "    <tr>\n",
       "      <th>43.0</th>\n",
       "      <td>12298</td>\n",
       "      <td>5104.0</td>\n",
       "      <td>41.502683</td>\n",
       "    </tr>\n",
       "    <tr>\n",
       "      <th>44.0</th>\n",
       "      <td>12344</td>\n",
       "      <td>5004.0</td>\n",
       "      <td>40.537913</td>\n",
       "    </tr>\n",
       "    <tr>\n",
       "      <th>45.0</th>\n",
       "      <td>12265</td>\n",
       "      <td>4993.0</td>\n",
       "      <td>40.709336</td>\n",
       "    </tr>\n",
       "    <tr>\n",
       "      <th>46.0</th>\n",
       "      <td>12368</td>\n",
       "      <td>5050.0</td>\n",
       "      <td>40.831177</td>\n",
       "    </tr>\n",
       "    <tr>\n",
       "      <th>47.0</th>\n",
       "      <td>12369</td>\n",
       "      <td>5119.0</td>\n",
       "      <td>41.385722</td>\n",
       "    </tr>\n",
       "    <tr>\n",
       "      <th>48.0</th>\n",
       "      <td>12379</td>\n",
       "      <td>4989.0</td>\n",
       "      <td>40.302125</td>\n",
       "    </tr>\n",
       "    <tr>\n",
       "      <th>49.0</th>\n",
       "      <td>12331</td>\n",
       "      <td>4954.0</td>\n",
       "      <td>40.175168</td>\n",
       "    </tr>\n",
       "    <tr>\n",
       "      <th>50.0</th>\n",
       "      <td>13527</td>\n",
       "      <td>4837.0</td>\n",
       "      <td>35.758113</td>\n",
       "    </tr>\n",
       "    <tr>\n",
       "      <th>51.0</th>\n",
       "      <td>5437</td>\n",
       "      <td>5437.0</td>\n",
       "      <td>100.000000</td>\n",
       "    </tr>\n",
       "    <tr>\n",
       "      <th>52.0</th>\n",
       "      <td>5364</td>\n",
       "      <td>5364.0</td>\n",
       "      <td>100.000000</td>\n",
       "    </tr>\n",
       "    <tr>\n",
       "      <th>53.0</th>\n",
       "      <td>5467</td>\n",
       "      <td>5467.0</td>\n",
       "      <td>100.000000</td>\n",
       "    </tr>\n",
       "    <tr>\n",
       "      <th>54.0</th>\n",
       "      <td>5472</td>\n",
       "      <td>5472.0</td>\n",
       "      <td>100.000000</td>\n",
       "    </tr>\n",
       "    <tr>\n",
       "      <th>55.0</th>\n",
       "      <td>5489</td>\n",
       "      <td>5489.0</td>\n",
       "      <td>100.000000</td>\n",
       "    </tr>\n",
       "    <tr>\n",
       "      <th>56.0</th>\n",
       "      <td>5477</td>\n",
       "      <td>5477.0</td>\n",
       "      <td>100.000000</td>\n",
       "    </tr>\n",
       "    <tr>\n",
       "      <th>57.0</th>\n",
       "      <td>5361</td>\n",
       "      <td>5361.0</td>\n",
       "      <td>100.000000</td>\n",
       "    </tr>\n",
       "    <tr>\n",
       "      <th>58.0</th>\n",
       "      <td>5373</td>\n",
       "      <td>5373.0</td>\n",
       "      <td>100.000000</td>\n",
       "    </tr>\n",
       "    <tr>\n",
       "      <th>59.0</th>\n",
       "      <td>5573</td>\n",
       "      <td>5573.0</td>\n",
       "      <td>100.000000</td>\n",
       "    </tr>\n",
       "    <tr>\n",
       "      <th>60.0</th>\n",
       "      <td>5430</td>\n",
       "      <td>5430.0</td>\n",
       "      <td>100.000000</td>\n",
       "    </tr>\n",
       "    <tr>\n",
       "      <th>61.0</th>\n",
       "      <td>5407</td>\n",
       "      <td>5407.0</td>\n",
       "      <td>100.000000</td>\n",
       "    </tr>\n",
       "    <tr>\n",
       "      <th>62.0</th>\n",
       "      <td>5288</td>\n",
       "      <td>5288.0</td>\n",
       "      <td>100.000000</td>\n",
       "    </tr>\n",
       "    <tr>\n",
       "      <th>63.0</th>\n",
       "      <td>5560</td>\n",
       "      <td>5560.0</td>\n",
       "      <td>100.000000</td>\n",
       "    </tr>\n",
       "    <tr>\n",
       "      <th>64.0</th>\n",
       "      <td>5496</td>\n",
       "      <td>5496.0</td>\n",
       "      <td>100.000000</td>\n",
       "    </tr>\n",
       "    <tr>\n",
       "      <th>65.0</th>\n",
       "      <td>5460</td>\n",
       "      <td>5460.0</td>\n",
       "      <td>100.000000</td>\n",
       "    </tr>\n",
       "  </tbody>\n",
       "</table>\n",
       "</div>"
      ],
      "text/plain": [
       "      churn                   %\n",
       "      count     sum            \n",
       "age                            \n",
       "18.0   8219  5323.0   64.764570\n",
       "19.0   8073  5203.0   64.449399\n",
       "20.0   9553  5123.0   53.627133\n",
       "21.0   9574  5191.0   54.219762\n",
       "22.0   9639  5239.0   54.352111\n",
       "23.0   9513  5112.0   53.736991\n",
       "24.0   9465  5194.0   54.875858\n",
       "25.0   9647  5191.0   53.809474\n",
       "26.0   9692  5186.0   53.508048\n",
       "27.0   9472  5090.0   53.737331\n",
       "28.0   9608  5178.0   53.892590\n",
       "29.0   9571  5163.0   53.944206\n",
       "30.0  10907  5094.0   46.703952\n",
       "31.0  11092  5119.0   46.150379\n",
       "32.0  10885  5043.0   46.329812\n",
       "33.0  10990  5129.0   46.669700\n",
       "34.0  10829  5022.0   46.375473\n",
       "35.0  11062  5115.0   46.239378\n",
       "36.0  11031  5127.0   46.478107\n",
       "37.0  11024  5156.0   46.770682\n",
       "38.0  11181  5192.0   46.435918\n",
       "39.0  10961  5147.0   46.957394\n",
       "40.0  12417  4980.0   40.106306\n",
       "41.0  12314  4954.0   40.230632\n",
       "42.0  12578  5024.0   39.942757\n",
       "43.0  12298  5104.0   41.502683\n",
       "44.0  12344  5004.0   40.537913\n",
       "45.0  12265  4993.0   40.709336\n",
       "46.0  12368  5050.0   40.831177\n",
       "47.0  12369  5119.0   41.385722\n",
       "48.0  12379  4989.0   40.302125\n",
       "49.0  12331  4954.0   40.175168\n",
       "50.0  13527  4837.0   35.758113\n",
       "51.0   5437  5437.0  100.000000\n",
       "52.0   5364  5364.0  100.000000\n",
       "53.0   5467  5467.0  100.000000\n",
       "54.0   5472  5472.0  100.000000\n",
       "55.0   5489  5489.0  100.000000\n",
       "56.0   5477  5477.0  100.000000\n",
       "57.0   5361  5361.0  100.000000\n",
       "58.0   5373  5373.0  100.000000\n",
       "59.0   5573  5573.0  100.000000\n",
       "60.0   5430  5430.0  100.000000\n",
       "61.0   5407  5407.0  100.000000\n",
       "62.0   5288  5288.0  100.000000\n",
       "63.0   5560  5560.0  100.000000\n",
       "64.0   5496  5496.0  100.000000\n",
       "65.0   5460  5460.0  100.000000"
      ]
     },
     "execution_count": 35,
     "metadata": {},
     "output_type": "execute_result"
    }
   ],
   "source": [
    "age_churn"
   ]
  },
  {
   "cell_type": "markdown",
   "id": "6e3b181e",
   "metadata": {},
   "source": [
    "The churn rate declines steadily until age 50, where the churn rate skyrockets to 100%. "
   ]
  },
  {
   "cell_type": "markdown",
   "id": "3451b0e0",
   "metadata": {},
   "source": [
    "##### Gender"
   ]
  },
  {
   "cell_type": "code",
   "execution_count": 36,
   "id": "c7982dbc",
   "metadata": {},
   "outputs": [
    {
     "data": {
      "text/html": [
       "<div>\n",
       "<style scoped>\n",
       "    .dataframe tbody tr th:only-of-type {\n",
       "        vertical-align: middle;\n",
       "    }\n",
       "\n",
       "    .dataframe tbody tr th {\n",
       "        vertical-align: top;\n",
       "    }\n",
       "\n",
       "    .dataframe thead tr th {\n",
       "        text-align: left;\n",
       "    }\n",
       "\n",
       "    .dataframe thead tr:last-of-type th {\n",
       "        text-align: right;\n",
       "    }\n",
       "</style>\n",
       "<table border=\"1\" class=\"dataframe\">\n",
       "  <thead>\n",
       "    <tr>\n",
       "      <th></th>\n",
       "      <th colspan=\"2\" halign=\"left\">churn</th>\n",
       "      <th>%</th>\n",
       "    </tr>\n",
       "    <tr>\n",
       "      <th></th>\n",
       "      <th>count</th>\n",
       "      <th>sum</th>\n",
       "      <th></th>\n",
       "    </tr>\n",
       "    <tr>\n",
       "      <th>gender</th>\n",
       "      <th></th>\n",
       "      <th></th>\n",
       "      <th></th>\n",
       "    </tr>\n",
       "  </thead>\n",
       "  <tbody>\n",
       "    <tr>\n",
       "      <th>Female</th>\n",
       "      <td>190580</td>\n",
       "      <td>127058.0</td>\n",
       "      <td>66.67</td>\n",
       "    </tr>\n",
       "    <tr>\n",
       "      <th>Male</th>\n",
       "      <td>250252</td>\n",
       "      <td>122941.0</td>\n",
       "      <td>49.13</td>\n",
       "    </tr>\n",
       "  </tbody>\n",
       "</table>\n",
       "</div>"
      ],
      "text/plain": [
       "         churn                %\n",
       "         count       sum       \n",
       "gender                         \n",
       "Female  190580  127058.0  66.67\n",
       "Male    250252  122941.0  49.13"
      ]
     },
     "execution_count": 36,
     "metadata": {},
     "output_type": "execute_result"
    }
   ],
   "source": [
    "gender_churn = pd.pivot_table(df_train[['gender', 'churn']], index=['gender'],values = ['churn'], \n",
    "                              aggfunc= {'churn': ['sum', 'count',]})\n",
    "gender_churn.loc[:,'%'] = (gender_churn['churn']['sum']/gender_churn['churn']['count'])*100\n",
    "#gender_churn['%'] = (gender_churn['sum']/gender_churn['count'])*100\n",
    "np.round(gender_churn, decimals=2)"
   ]
  },
  {
   "cell_type": "markdown",
   "id": "1ac3a18c",
   "metadata": {},
   "source": [
    "It seems like a higher proportion of females have churned. Almost 67% of female customers have churned."
   ]
  },
  {
   "cell_type": "markdown",
   "id": "23dffbea",
   "metadata": {},
   "source": [
    "##### Tenure"
   ]
  },
  {
   "cell_type": "code",
   "execution_count": 37,
   "id": "7ae7d52c",
   "metadata": {},
   "outputs": [
    {
     "data": {
      "text/plain": [
       "Text(0, 0.5, '% Churn')"
      ]
     },
     "execution_count": 37,
     "metadata": {},
     "output_type": "execute_result"
    },
    {
     "data": {
      "image/png": "[encoded data removed]",
      "text/plain": [
       "<Figure size 640x480 with 1 Axes>"
      ]
     },
     "metadata": {},
     "output_type": "display_data"
    }
   ],
   "source": [
    "tenure_churn = pd.pivot_table(df_train[['tenure', 'churn']], index=['tenure'],values = ['churn'], \n",
    "                              aggfunc= {'churn': ['sum', 'count',]})\n",
    "tenure_churn.loc[:,'%'] = (tenure_churn['churn']['sum']/tenure_churn['churn']['count'])*100\n",
    "\n",
    "az = tenure_churn['%'].plot()\n",
    "az.set_ylabel(\"% Churn\")"
   ]
  },
  {
   "cell_type": "code",
   "execution_count": 38,
   "id": "2c04ddb8",
   "metadata": {},
   "outputs": [
    {
     "data": {
      "text/html": [
       "<div>\n",
       "<style scoped>\n",
       "    .dataframe tbody tr th:only-of-type {\n",
       "        vertical-align: middle;\n",
       "    }\n",
       "\n",
       "    .dataframe tbody tr th {\n",
       "        vertical-align: top;\n",
       "    }\n",
       "\n",
       "    .dataframe thead tr th {\n",
       "        text-align: left;\n",
       "    }\n",
       "\n",
       "    .dataframe thead tr:last-of-type th {\n",
       "        text-align: right;\n",
       "    }\n",
       "</style>\n",
       "<table border=\"1\" class=\"dataframe\">\n",
       "  <thead>\n",
       "    <tr>\n",
       "      <th></th>\n",
       "      <th colspan=\"2\" halign=\"left\">churn</th>\n",
       "      <th>%</th>\n",
       "    </tr>\n",
       "    <tr>\n",
       "      <th></th>\n",
       "      <th>count</th>\n",
       "      <th>sum</th>\n",
       "      <th></th>\n",
       "    </tr>\n",
       "    <tr>\n",
       "      <th>tenure</th>\n",
       "      <th></th>\n",
       "      <th></th>\n",
       "      <th></th>\n",
       "    </tr>\n",
       "  </thead>\n",
       "  <tbody>\n",
       "    <tr>\n",
       "      <th>1.0</th>\n",
       "      <td>6407</td>\n",
       "      <td>4188.0</td>\n",
       "      <td>65.37</td>\n",
       "    </tr>\n",
       "    <tr>\n",
       "      <th>2.0</th>\n",
       "      <td>6575</td>\n",
       "      <td>4255.0</td>\n",
       "      <td>64.71</td>\n",
       "    </tr>\n",
       "    <tr>\n",
       "      <th>3.0</th>\n",
       "      <td>6417</td>\n",
       "      <td>4071.0</td>\n",
       "      <td>63.44</td>\n",
       "    </tr>\n",
       "    <tr>\n",
       "      <th>4.0</th>\n",
       "      <td>6606</td>\n",
       "      <td>4237.0</td>\n",
       "      <td>64.14</td>\n",
       "    </tr>\n",
       "    <tr>\n",
       "      <th>5.0</th>\n",
       "      <td>6669</td>\n",
       "      <td>4302.0</td>\n",
       "      <td>64.51</td>\n",
       "    </tr>\n",
       "    <tr>\n",
       "      <th>6.0</th>\n",
       "      <td>7704</td>\n",
       "      <td>4124.0</td>\n",
       "      <td>53.53</td>\n",
       "    </tr>\n",
       "    <tr>\n",
       "      <th>7.0</th>\n",
       "      <td>7569</td>\n",
       "      <td>4131.0</td>\n",
       "      <td>54.58</td>\n",
       "    </tr>\n",
       "    <tr>\n",
       "      <th>8.0</th>\n",
       "      <td>7670</td>\n",
       "      <td>4244.0</td>\n",
       "      <td>55.33</td>\n",
       "    </tr>\n",
       "    <tr>\n",
       "      <th>9.0</th>\n",
       "      <td>7534</td>\n",
       "      <td>4053.0</td>\n",
       "      <td>53.80</td>\n",
       "    </tr>\n",
       "    <tr>\n",
       "      <th>10.0</th>\n",
       "      <td>7674</td>\n",
       "      <td>4125.0</td>\n",
       "      <td>53.75</td>\n",
       "    </tr>\n",
       "    <tr>\n",
       "      <th>11.0</th>\n",
       "      <td>7671</td>\n",
       "      <td>4156.0</td>\n",
       "      <td>54.18</td>\n",
       "    </tr>\n",
       "    <tr>\n",
       "      <th>12.0</th>\n",
       "      <td>6633</td>\n",
       "      <td>4114.0</td>\n",
       "      <td>62.02</td>\n",
       "    </tr>\n",
       "    <tr>\n",
       "      <th>13.0</th>\n",
       "      <td>6616</td>\n",
       "      <td>4159.0</td>\n",
       "      <td>62.86</td>\n",
       "    </tr>\n",
       "    <tr>\n",
       "      <th>14.0</th>\n",
       "      <td>6637</td>\n",
       "      <td>4236.0</td>\n",
       "      <td>63.82</td>\n",
       "    </tr>\n",
       "    <tr>\n",
       "      <th>15.0</th>\n",
       "      <td>6683</td>\n",
       "      <td>4211.0</td>\n",
       "      <td>63.01</td>\n",
       "    </tr>\n",
       "    <tr>\n",
       "      <th>16.0</th>\n",
       "      <td>6693</td>\n",
       "      <td>4204.0</td>\n",
       "      <td>62.81</td>\n",
       "    </tr>\n",
       "    <tr>\n",
       "      <th>17.0</th>\n",
       "      <td>6630</td>\n",
       "      <td>4221.0</td>\n",
       "      <td>63.67</td>\n",
       "    </tr>\n",
       "    <tr>\n",
       "      <th>18.0</th>\n",
       "      <td>6776</td>\n",
       "      <td>4370.0</td>\n",
       "      <td>64.49</td>\n",
       "    </tr>\n",
       "    <tr>\n",
       "      <th>19.0</th>\n",
       "      <td>6568</td>\n",
       "      <td>4164.0</td>\n",
       "      <td>63.40</td>\n",
       "    </tr>\n",
       "    <tr>\n",
       "      <th>20.0</th>\n",
       "      <td>6678</td>\n",
       "      <td>4180.0</td>\n",
       "      <td>62.59</td>\n",
       "    </tr>\n",
       "    <tr>\n",
       "      <th>21.0</th>\n",
       "      <td>6748</td>\n",
       "      <td>4263.0</td>\n",
       "      <td>63.17</td>\n",
       "    </tr>\n",
       "    <tr>\n",
       "      <th>22.0</th>\n",
       "      <td>6774</td>\n",
       "      <td>4321.0</td>\n",
       "      <td>63.79</td>\n",
       "    </tr>\n",
       "    <tr>\n",
       "      <th>23.0</th>\n",
       "      <td>6581</td>\n",
       "      <td>4109.0</td>\n",
       "      <td>62.44</td>\n",
       "    </tr>\n",
       "    <tr>\n",
       "      <th>24.0</th>\n",
       "      <td>6583</td>\n",
       "      <td>4159.0</td>\n",
       "      <td>63.18</td>\n",
       "    </tr>\n",
       "    <tr>\n",
       "      <th>25.0</th>\n",
       "      <td>7593</td>\n",
       "      <td>4025.0</td>\n",
       "      <td>53.01</td>\n",
       "    </tr>\n",
       "    <tr>\n",
       "      <th>26.0</th>\n",
       "      <td>7605</td>\n",
       "      <td>4128.0</td>\n",
       "      <td>54.28</td>\n",
       "    </tr>\n",
       "    <tr>\n",
       "      <th>27.0</th>\n",
       "      <td>7559</td>\n",
       "      <td>4098.0</td>\n",
       "      <td>54.21</td>\n",
       "    </tr>\n",
       "    <tr>\n",
       "      <th>28.0</th>\n",
       "      <td>7541</td>\n",
       "      <td>4090.0</td>\n",
       "      <td>54.24</td>\n",
       "    </tr>\n",
       "    <tr>\n",
       "      <th>29.0</th>\n",
       "      <td>7500</td>\n",
       "      <td>4075.0</td>\n",
       "      <td>54.33</td>\n",
       "    </tr>\n",
       "    <tr>\n",
       "      <th>30.0</th>\n",
       "      <td>7750</td>\n",
       "      <td>4292.0</td>\n",
       "      <td>55.38</td>\n",
       "    </tr>\n",
       "    <tr>\n",
       "      <th>31.0</th>\n",
       "      <td>7460</td>\n",
       "      <td>3991.0</td>\n",
       "      <td>53.50</td>\n",
       "    </tr>\n",
       "    <tr>\n",
       "      <th>32.0</th>\n",
       "      <td>7828</td>\n",
       "      <td>4283.0</td>\n",
       "      <td>54.71</td>\n",
       "    </tr>\n",
       "    <tr>\n",
       "      <th>33.0</th>\n",
       "      <td>7770</td>\n",
       "      <td>4175.0</td>\n",
       "      <td>53.73</td>\n",
       "    </tr>\n",
       "    <tr>\n",
       "      <th>34.0</th>\n",
       "      <td>7635</td>\n",
       "      <td>4146.0</td>\n",
       "      <td>54.30</td>\n",
       "    </tr>\n",
       "    <tr>\n",
       "      <th>35.0</th>\n",
       "      <td>7611</td>\n",
       "      <td>4154.0</td>\n",
       "      <td>54.58</td>\n",
       "    </tr>\n",
       "    <tr>\n",
       "      <th>36.0</th>\n",
       "      <td>7621</td>\n",
       "      <td>4052.0</td>\n",
       "      <td>53.17</td>\n",
       "    </tr>\n",
       "    <tr>\n",
       "      <th>37.0</th>\n",
       "      <td>7561</td>\n",
       "      <td>4085.0</td>\n",
       "      <td>54.03</td>\n",
       "    </tr>\n",
       "    <tr>\n",
       "      <th>38.0</th>\n",
       "      <td>7733</td>\n",
       "      <td>4219.0</td>\n",
       "      <td>54.56</td>\n",
       "    </tr>\n",
       "    <tr>\n",
       "      <th>39.0</th>\n",
       "      <td>7583</td>\n",
       "      <td>4120.0</td>\n",
       "      <td>54.33</td>\n",
       "    </tr>\n",
       "    <tr>\n",
       "      <th>40.0</th>\n",
       "      <td>7506</td>\n",
       "      <td>4035.0</td>\n",
       "      <td>53.76</td>\n",
       "    </tr>\n",
       "    <tr>\n",
       "      <th>41.0</th>\n",
       "      <td>7633</td>\n",
       "      <td>4134.0</td>\n",
       "      <td>54.16</td>\n",
       "    </tr>\n",
       "    <tr>\n",
       "      <th>42.0</th>\n",
       "      <td>7718</td>\n",
       "      <td>4210.0</td>\n",
       "      <td>54.55</td>\n",
       "    </tr>\n",
       "    <tr>\n",
       "      <th>43.0</th>\n",
       "      <td>7702</td>\n",
       "      <td>4169.0</td>\n",
       "      <td>54.13</td>\n",
       "    </tr>\n",
       "    <tr>\n",
       "      <th>44.0</th>\n",
       "      <td>7628</td>\n",
       "      <td>4066.0</td>\n",
       "      <td>53.30</td>\n",
       "    </tr>\n",
       "    <tr>\n",
       "      <th>45.0</th>\n",
       "      <td>7704</td>\n",
       "      <td>4154.0</td>\n",
       "      <td>53.92</td>\n",
       "    </tr>\n",
       "    <tr>\n",
       "      <th>46.0</th>\n",
       "      <td>7680</td>\n",
       "      <td>4177.0</td>\n",
       "      <td>54.39</td>\n",
       "    </tr>\n",
       "    <tr>\n",
       "      <th>47.0</th>\n",
       "      <td>7747</td>\n",
       "      <td>4204.0</td>\n",
       "      <td>54.27</td>\n",
       "    </tr>\n",
       "    <tr>\n",
       "      <th>48.0</th>\n",
       "      <td>7737</td>\n",
       "      <td>4187.0</td>\n",
       "      <td>54.12</td>\n",
       "    </tr>\n",
       "    <tr>\n",
       "      <th>49.0</th>\n",
       "      <td>7815</td>\n",
       "      <td>4178.0</td>\n",
       "      <td>53.46</td>\n",
       "    </tr>\n",
       "    <tr>\n",
       "      <th>50.0</th>\n",
       "      <td>7634</td>\n",
       "      <td>4098.0</td>\n",
       "      <td>53.68</td>\n",
       "    </tr>\n",
       "    <tr>\n",
       "      <th>51.0</th>\n",
       "      <td>7594</td>\n",
       "      <td>4178.0</td>\n",
       "      <td>55.02</td>\n",
       "    </tr>\n",
       "    <tr>\n",
       "      <th>52.0</th>\n",
       "      <td>7769</td>\n",
       "      <td>4202.0</td>\n",
       "      <td>54.09</td>\n",
       "    </tr>\n",
       "    <tr>\n",
       "      <th>53.0</th>\n",
       "      <td>7665</td>\n",
       "      <td>4143.0</td>\n",
       "      <td>54.05</td>\n",
       "    </tr>\n",
       "    <tr>\n",
       "      <th>54.0</th>\n",
       "      <td>7606</td>\n",
       "      <td>4162.0</td>\n",
       "      <td>54.72</td>\n",
       "    </tr>\n",
       "    <tr>\n",
       "      <th>55.0</th>\n",
       "      <td>7777</td>\n",
       "      <td>4304.0</td>\n",
       "      <td>55.34</td>\n",
       "    </tr>\n",
       "    <tr>\n",
       "      <th>56.0</th>\n",
       "      <td>7812</td>\n",
       "      <td>4226.0</td>\n",
       "      <td>54.10</td>\n",
       "    </tr>\n",
       "    <tr>\n",
       "      <th>57.0</th>\n",
       "      <td>7735</td>\n",
       "      <td>4218.0</td>\n",
       "      <td>54.53</td>\n",
       "    </tr>\n",
       "    <tr>\n",
       "      <th>58.0</th>\n",
       "      <td>7669</td>\n",
       "      <td>4179.0</td>\n",
       "      <td>54.49</td>\n",
       "    </tr>\n",
       "    <tr>\n",
       "      <th>59.0</th>\n",
       "      <td>7597</td>\n",
       "      <td>4180.0</td>\n",
       "      <td>55.02</td>\n",
       "    </tr>\n",
       "    <tr>\n",
       "      <th>60.0</th>\n",
       "      <td>7658</td>\n",
       "      <td>4065.0</td>\n",
       "      <td>53.08</td>\n",
       "    </tr>\n",
       "  </tbody>\n",
       "</table>\n",
       "</div>"
      ],
      "text/plain": [
       "       churn              %\n",
       "       count     sum       \n",
       "tenure                     \n",
       "1.0     6407  4188.0  65.37\n",
       "2.0     6575  4255.0  64.71\n",
       "3.0     6417  4071.0  63.44\n",
       "4.0     6606  4237.0  64.14\n",
       "5.0     6669  4302.0  64.51\n",
       "6.0     7704  4124.0  53.53\n",
       "7.0     7569  4131.0  54.58\n",
       "8.0     7670  4244.0  55.33\n",
       "9.0     7534  4053.0  53.80\n",
       "10.0    7674  4125.0  53.75\n",
       "11.0    7671  4156.0  54.18\n",
       "12.0    6633  4114.0  62.02\n",
       "13.0    6616  4159.0  62.86\n",
       "14.0    6637  4236.0  63.82\n",
       "15.0    6683  4211.0  63.01\n",
       "16.0    6693  4204.0  62.81\n",
       "17.0    6630  4221.0  63.67\n",
       "18.0    6776  4370.0  64.49\n",
       "19.0    6568  4164.0  63.40\n",
       "20.0    6678  4180.0  62.59\n",
       "21.0    6748  4263.0  63.17\n",
       "22.0    6774  4321.0  63.79\n",
       "23.0    6581  4109.0  62.44\n",
       "24.0    6583  4159.0  63.18\n",
       "25.0    7593  4025.0  53.01\n",
       "26.0    7605  4128.0  54.28\n",
       "27.0    7559  4098.0  54.21\n",
       "28.0    7541  4090.0  54.24\n",
       "29.0    7500  4075.0  54.33\n",
       "30.0    7750  4292.0  55.38\n",
       "31.0    7460  3991.0  53.50\n",
       "32.0    7828  4283.0  54.71\n",
       "33.0    7770  4175.0  53.73\n",
       "34.0    7635  4146.0  54.30\n",
       "35.0    7611  4154.0  54.58\n",
       "36.0    7621  4052.0  53.17\n",
       "37.0    7561  4085.0  54.03\n",
       "38.0    7733  4219.0  54.56\n",
       "39.0    7583  4120.0  54.33\n",
       "40.0    7506  4035.0  53.76\n",
       "41.0    7633  4134.0  54.16\n",
       "42.0    7718  4210.0  54.55\n",
       "43.0    7702  4169.0  54.13\n",
       "44.0    7628  4066.0  53.30\n",
       "45.0    7704  4154.0  53.92\n",
       "46.0    7680  4177.0  54.39\n",
       "47.0    7747  4204.0  54.27\n",
       "48.0    7737  4187.0  54.12\n",
       "49.0    7815  4178.0  53.46\n",
       "50.0    7634  4098.0  53.68\n",
       "51.0    7594  4178.0  55.02\n",
       "52.0    7769  4202.0  54.09\n",
       "53.0    7665  4143.0  54.05\n",
       "54.0    7606  4162.0  54.72\n",
       "55.0    7777  4304.0  55.34\n",
       "56.0    7812  4226.0  54.10\n",
       "57.0    7735  4218.0  54.53\n",
       "58.0    7669  4179.0  54.49\n",
       "59.0    7597  4180.0  55.02\n",
       "60.0    7658  4065.0  53.08"
      ]
     },
     "execution_count": 38,
     "metadata": {},
     "output_type": "execute_result"
    }
   ],
   "source": [
    "np.round(tenure_churn, decimals=2)"
   ]
  },
  {
   "cell_type": "markdown",
   "id": "8131954d",
   "metadata": {},
   "source": [
    "For tenure, it seems that there's greater churn for shorter term customers that have been with the product under 25 months. There is a dip between 5 and 11 though - maybe a more desirable length of time to be on the product."
   ]
  },
  {
   "cell_type": "markdown",
   "id": "36714981",
   "metadata": {},
   "source": [
    "##### Usage Frequency"
   ]
  },
  {
   "cell_type": "code",
   "execution_count": 39,
   "id": "5fe2a9ae",
   "metadata": {},
   "outputs": [
    {
     "data": {
      "text/plain": [
       "Text(0, 0.5, '% Churn')"
      ]
     },
     "execution_count": 39,
     "metadata": {},
     "output_type": "execute_result"
    },
    {
     "data": {
      "image/png": "[encoded data removed]",
      "text/plain": [
       "<Figure size 640x480 with 1 Axes>"
      ]
     },
     "metadata": {},
     "output_type": "display_data"
    }
   ],
   "source": [
    "# churn vs usage freq\n",
    "\n",
    "frequency_churn = pd.pivot_table(df_train[['frequency', 'churn']], index=['frequency'], values = ['churn'], \n",
    "                                 aggfunc= {'churn': ['sum', 'count',]})\n",
    "frequency_churn.loc[:,'%'] = (frequency_churn['churn']['sum']/frequency_churn['churn']['count'])*100\n",
    "\n",
    "az = frequency_churn['%'].plot()\n",
    "az.set_ylabel(\"% Churn\")"
   ]
  },
  {
   "cell_type": "markdown",
   "id": "854af53e",
   "metadata": {},
   "source": [
    "Similar to tenure, usage frequency seems to have some impact on churn - when the frequency is higher, there's more engagement and potentially less churn which makes sense."
   ]
  },
  {
   "cell_type": "markdown",
   "id": "2afe518a",
   "metadata": {},
   "source": [
    "##### Support Calls"
   ]
  },
  {
   "cell_type": "code",
   "execution_count": 40,
   "id": "8184ae4d",
   "metadata": {},
   "outputs": [
    {
     "data": {
      "text/plain": [
       "Text(0, 0.5, '% Churn')"
      ]
     },
     "execution_count": 40,
     "metadata": {},
     "output_type": "execute_result"
    },
    {
     "data": {
      "image/png": "[encoded data removed]",
      "text/plain": [
       "<Figure size 640x480 with 1 Axes>"
      ]
     },
     "metadata": {},
     "output_type": "display_data"
    }
   ],
   "source": [
    "# churn vs calls\n",
    "\n",
    "calls_churn = pd.pivot_table(df_train[['calls', 'churn']], index=['calls'],values = ['churn'], \n",
    "                             aggfunc= {'churn': ['sum', 'count',]})\n",
    "calls_churn.loc[:,'%'] = (calls_churn['churn']['sum']/calls_churn['churn']['count'])*100\n",
    "\n",
    "az = calls_churn['%'].plot()\n",
    "az.set_ylabel(\"% Churn\")"
   ]
  },
  {
   "cell_type": "code",
   "execution_count": 41,
   "id": "5b26a8e0",
   "metadata": {},
   "outputs": [
    {
     "data": {
      "text/html": [
       "<div>\n",
       "<style scoped>\n",
       "    .dataframe tbody tr th:only-of-type {\n",
       "        vertical-align: middle;\n",
       "    }\n",
       "\n",
       "    .dataframe tbody tr th {\n",
       "        vertical-align: top;\n",
       "    }\n",
       "\n",
       "    .dataframe thead tr th {\n",
       "        text-align: left;\n",
       "    }\n",
       "\n",
       "    .dataframe thead tr:last-of-type th {\n",
       "        text-align: right;\n",
       "    }\n",
       "</style>\n",
       "<table border=\"1\" class=\"dataframe\">\n",
       "  <thead>\n",
       "    <tr>\n",
       "      <th></th>\n",
       "      <th colspan=\"2\" halign=\"left\">churn</th>\n",
       "      <th>%</th>\n",
       "    </tr>\n",
       "    <tr>\n",
       "      <th></th>\n",
       "      <th>count</th>\n",
       "      <th>sum</th>\n",
       "      <th></th>\n",
       "    </tr>\n",
       "    <tr>\n",
       "      <th>calls</th>\n",
       "      <th></th>\n",
       "      <th></th>\n",
       "      <th></th>\n",
       "    </tr>\n",
       "  </thead>\n",
       "  <tbody>\n",
       "    <tr>\n",
       "      <th>0.0</th>\n",
       "      <td>69875</td>\n",
       "      <td>21160.0</td>\n",
       "      <td>30.28</td>\n",
       "    </tr>\n",
       "    <tr>\n",
       "      <th>1.0</th>\n",
       "      <td>69476</td>\n",
       "      <td>21095.0</td>\n",
       "      <td>30.36</td>\n",
       "    </tr>\n",
       "    <tr>\n",
       "      <th>2.0</th>\n",
       "      <td>66571</td>\n",
       "      <td>21004.0</td>\n",
       "      <td>31.55</td>\n",
       "    </tr>\n",
       "    <tr>\n",
       "      <th>3.0</th>\n",
       "      <td>52729</td>\n",
       "      <td>21958.0</td>\n",
       "      <td>41.64</td>\n",
       "    </tr>\n",
       "    <tr>\n",
       "      <th>4.0</th>\n",
       "      <td>38750</td>\n",
       "      <td>22668.0</td>\n",
       "      <td>58.50</td>\n",
       "    </tr>\n",
       "    <tr>\n",
       "      <th>5.0</th>\n",
       "      <td>24918</td>\n",
       "      <td>23601.0</td>\n",
       "      <td>94.71</td>\n",
       "    </tr>\n",
       "    <tr>\n",
       "      <th>6.0</th>\n",
       "      <td>23554</td>\n",
       "      <td>23554.0</td>\n",
       "      <td>100.00</td>\n",
       "    </tr>\n",
       "    <tr>\n",
       "      <th>7.0</th>\n",
       "      <td>23870</td>\n",
       "      <td>23870.0</td>\n",
       "      <td>100.00</td>\n",
       "    </tr>\n",
       "    <tr>\n",
       "      <th>8.0</th>\n",
       "      <td>23559</td>\n",
       "      <td>23559.0</td>\n",
       "      <td>100.00</td>\n",
       "    </tr>\n",
       "    <tr>\n",
       "      <th>9.0</th>\n",
       "      <td>23630</td>\n",
       "      <td>23630.0</td>\n",
       "      <td>100.00</td>\n",
       "    </tr>\n",
       "    <tr>\n",
       "      <th>10.0</th>\n",
       "      <td>23900</td>\n",
       "      <td>23900.0</td>\n",
       "      <td>100.00</td>\n",
       "    </tr>\n",
       "  </tbody>\n",
       "</table>\n",
       "</div>"
      ],
      "text/plain": [
       "       churn                %\n",
       "       count      sum        \n",
       "calls                        \n",
       "0.0    69875  21160.0   30.28\n",
       "1.0    69476  21095.0   30.36\n",
       "2.0    66571  21004.0   31.55\n",
       "3.0    52729  21958.0   41.64\n",
       "4.0    38750  22668.0   58.50\n",
       "5.0    24918  23601.0   94.71\n",
       "6.0    23554  23554.0  100.00\n",
       "7.0    23870  23870.0  100.00\n",
       "8.0    23559  23559.0  100.00\n",
       "9.0    23630  23630.0  100.00\n",
       "10.0   23900  23900.0  100.00"
      ]
     },
     "execution_count": 41,
     "metadata": {},
     "output_type": "execute_result"
    }
   ],
   "source": [
    "np.round(calls_churn, decimals=2)"
   ]
  },
  {
   "cell_type": "markdown",
   "id": "dd275edf",
   "metadata": {},
   "source": [
    "Here it looks like once more than 2 calls are made, the churn rate goes up significantly. This indicates possibly low response from customer support or more issues with using the product."
   ]
  },
  {
   "cell_type": "markdown",
   "id": "ec712032",
   "metadata": {},
   "source": [
    "##### Payment Delay"
   ]
  },
  {
   "cell_type": "code",
   "execution_count": 42,
   "id": "72831cb3",
   "metadata": {},
   "outputs": [],
   "source": [
    "# churn vs delay\n",
    "# df_train[['delay', 'churn']].groupby('delay').sum().plot(legend=True)"
   ]
  },
  {
   "cell_type": "code",
   "execution_count": 43,
   "id": "0f038c20",
   "metadata": {},
   "outputs": [
    {
     "data": {
      "text/plain": [
       "Text(0, 0.5, '% Churn')"
      ]
     },
     "execution_count": 43,
     "metadata": {},
     "output_type": "execute_result"
    },
    {
     "data": {
      "image/png": "[encoded data removed]",
      "text/plain": [
       "<Figure size 640x480 with 1 Axes>"
      ]
     },
     "metadata": {},
     "output_type": "display_data"
    }
   ],
   "source": [
    "# churn vs delay\n",
    "\n",
    "delay_churn = pd.pivot_table(df_train[['delay', 'churn']], index=['delay'],values = ['churn'], \n",
    "                             aggfunc= {'churn': ['sum', 'count',]})\n",
    "delay_churn.loc[:,'%'] = (delay_churn['churn']['sum']/delay_churn['churn']['count'])*100\n",
    "\n",
    "az = delay_churn['%'].plot()\n",
    "az.set_ylabel(\"% Churn\")"
   ]
  },
  {
   "cell_type": "code",
   "execution_count": 44,
   "id": "5ee448d7",
   "metadata": {},
   "outputs": [
    {
     "data": {
      "text/html": [
       "<div>\n",
       "<style scoped>\n",
       "    .dataframe tbody tr th:only-of-type {\n",
       "        vertical-align: middle;\n",
       "    }\n",
       "\n",
       "    .dataframe tbody tr th {\n",
       "        vertical-align: top;\n",
       "    }\n",
       "\n",
       "    .dataframe thead tr th {\n",
       "        text-align: left;\n",
       "    }\n",
       "\n",
       "    .dataframe thead tr:last-of-type th {\n",
       "        text-align: right;\n",
       "    }\n",
       "</style>\n",
       "<table border=\"1\" class=\"dataframe\">\n",
       "  <thead>\n",
       "    <tr>\n",
       "      <th></th>\n",
       "      <th colspan=\"2\" halign=\"left\">churn</th>\n",
       "      <th>%</th>\n",
       "    </tr>\n",
       "    <tr>\n",
       "      <th></th>\n",
       "      <th>count</th>\n",
       "      <th>sum</th>\n",
       "      <th></th>\n",
       "    </tr>\n",
       "    <tr>\n",
       "      <th>delay</th>\n",
       "      <th></th>\n",
       "      <th></th>\n",
       "      <th></th>\n",
       "    </tr>\n",
       "  </thead>\n",
       "  <tbody>\n",
       "    <tr>\n",
       "      <th>0.0</th>\n",
       "      <td>16904</td>\n",
       "      <td>7889.0</td>\n",
       "      <td>46.67</td>\n",
       "    </tr>\n",
       "    <tr>\n",
       "      <th>1.0</th>\n",
       "      <td>17021</td>\n",
       "      <td>7793.0</td>\n",
       "      <td>45.78</td>\n",
       "    </tr>\n",
       "    <tr>\n",
       "      <th>2.0</th>\n",
       "      <td>16822</td>\n",
       "      <td>7853.0</td>\n",
       "      <td>46.68</td>\n",
       "    </tr>\n",
       "    <tr>\n",
       "      <th>3.0</th>\n",
       "      <td>17025</td>\n",
       "      <td>7930.0</td>\n",
       "      <td>46.58</td>\n",
       "    </tr>\n",
       "    <tr>\n",
       "      <th>4.0</th>\n",
       "      <td>16938</td>\n",
       "      <td>7852.0</td>\n",
       "      <td>46.36</td>\n",
       "    </tr>\n",
       "    <tr>\n",
       "      <th>5.0</th>\n",
       "      <td>16744</td>\n",
       "      <td>7806.0</td>\n",
       "      <td>46.62</td>\n",
       "    </tr>\n",
       "    <tr>\n",
       "      <th>6.0</th>\n",
       "      <td>16954</td>\n",
       "      <td>7915.0</td>\n",
       "      <td>46.69</td>\n",
       "    </tr>\n",
       "    <tr>\n",
       "      <th>7.0</th>\n",
       "      <td>17027</td>\n",
       "      <td>7888.0</td>\n",
       "      <td>46.33</td>\n",
       "    </tr>\n",
       "    <tr>\n",
       "      <th>8.0</th>\n",
       "      <td>16892</td>\n",
       "      <td>7959.0</td>\n",
       "      <td>47.12</td>\n",
       "    </tr>\n",
       "    <tr>\n",
       "      <th>9.0</th>\n",
       "      <td>16869</td>\n",
       "      <td>7871.0</td>\n",
       "      <td>46.66</td>\n",
       "    </tr>\n",
       "    <tr>\n",
       "      <th>10.0</th>\n",
       "      <td>17051</td>\n",
       "      <td>7869.0</td>\n",
       "      <td>46.15</td>\n",
       "    </tr>\n",
       "    <tr>\n",
       "      <th>11.0</th>\n",
       "      <td>17185</td>\n",
       "      <td>8065.0</td>\n",
       "      <td>46.93</td>\n",
       "    </tr>\n",
       "    <tr>\n",
       "      <th>12.0</th>\n",
       "      <td>17198</td>\n",
       "      <td>7940.0</td>\n",
       "      <td>46.17</td>\n",
       "    </tr>\n",
       "    <tr>\n",
       "      <th>13.0</th>\n",
       "      <td>17095</td>\n",
       "      <td>7929.0</td>\n",
       "      <td>46.38</td>\n",
       "    </tr>\n",
       "    <tr>\n",
       "      <th>14.0</th>\n",
       "      <td>17078</td>\n",
       "      <td>7938.0</td>\n",
       "      <td>46.48</td>\n",
       "    </tr>\n",
       "    <tr>\n",
       "      <th>15.0</th>\n",
       "      <td>17015</td>\n",
       "      <td>7988.0</td>\n",
       "      <td>46.95</td>\n",
       "    </tr>\n",
       "    <tr>\n",
       "      <th>16.0</th>\n",
       "      <td>17021</td>\n",
       "      <td>7995.0</td>\n",
       "      <td>46.97</td>\n",
       "    </tr>\n",
       "    <tr>\n",
       "      <th>17.0</th>\n",
       "      <td>16869</td>\n",
       "      <td>7847.0</td>\n",
       "      <td>46.52</td>\n",
       "    </tr>\n",
       "    <tr>\n",
       "      <th>18.0</th>\n",
       "      <td>17027</td>\n",
       "      <td>7861.0</td>\n",
       "      <td>46.17</td>\n",
       "    </tr>\n",
       "    <tr>\n",
       "      <th>19.0</th>\n",
       "      <td>16892</td>\n",
       "      <td>7785.0</td>\n",
       "      <td>46.09</td>\n",
       "    </tr>\n",
       "    <tr>\n",
       "      <th>20.0</th>\n",
       "      <td>17175</td>\n",
       "      <td>7996.0</td>\n",
       "      <td>46.56</td>\n",
       "    </tr>\n",
       "    <tr>\n",
       "      <th>21.0</th>\n",
       "      <td>8670</td>\n",
       "      <td>8670.0</td>\n",
       "      <td>100.00</td>\n",
       "    </tr>\n",
       "    <tr>\n",
       "      <th>22.0</th>\n",
       "      <td>8454</td>\n",
       "      <td>8454.0</td>\n",
       "      <td>100.00</td>\n",
       "    </tr>\n",
       "    <tr>\n",
       "      <th>23.0</th>\n",
       "      <td>8323</td>\n",
       "      <td>8323.0</td>\n",
       "      <td>100.00</td>\n",
       "    </tr>\n",
       "    <tr>\n",
       "      <th>24.0</th>\n",
       "      <td>8325</td>\n",
       "      <td>8325.0</td>\n",
       "      <td>100.00</td>\n",
       "    </tr>\n",
       "    <tr>\n",
       "      <th>25.0</th>\n",
       "      <td>8362</td>\n",
       "      <td>8362.0</td>\n",
       "      <td>100.00</td>\n",
       "    </tr>\n",
       "    <tr>\n",
       "      <th>26.0</th>\n",
       "      <td>8383</td>\n",
       "      <td>8383.0</td>\n",
       "      <td>100.00</td>\n",
       "    </tr>\n",
       "    <tr>\n",
       "      <th>27.0</th>\n",
       "      <td>8178</td>\n",
       "      <td>8178.0</td>\n",
       "      <td>100.00</td>\n",
       "    </tr>\n",
       "    <tr>\n",
       "      <th>28.0</th>\n",
       "      <td>8299</td>\n",
       "      <td>8299.0</td>\n",
       "      <td>100.00</td>\n",
       "    </tr>\n",
       "    <tr>\n",
       "      <th>29.0</th>\n",
       "      <td>8446</td>\n",
       "      <td>8446.0</td>\n",
       "      <td>100.00</td>\n",
       "    </tr>\n",
       "    <tr>\n",
       "      <th>30.0</th>\n",
       "      <td>8590</td>\n",
       "      <td>8590.0</td>\n",
       "      <td>100.00</td>\n",
       "    </tr>\n",
       "  </tbody>\n",
       "</table>\n",
       "</div>"
      ],
      "text/plain": [
       "       churn               %\n",
       "       count     sum        \n",
       "delay                       \n",
       "0.0    16904  7889.0   46.67\n",
       "1.0    17021  7793.0   45.78\n",
       "2.0    16822  7853.0   46.68\n",
       "3.0    17025  7930.0   46.58\n",
       "4.0    16938  7852.0   46.36\n",
       "5.0    16744  7806.0   46.62\n",
       "6.0    16954  7915.0   46.69\n",
       "7.0    17027  7888.0   46.33\n",
       "8.0    16892  7959.0   47.12\n",
       "9.0    16869  7871.0   46.66\n",
       "10.0   17051  7869.0   46.15\n",
       "11.0   17185  8065.0   46.93\n",
       "12.0   17198  7940.0   46.17\n",
       "13.0   17095  7929.0   46.38\n",
       "14.0   17078  7938.0   46.48\n",
       "15.0   17015  7988.0   46.95\n",
       "16.0   17021  7995.0   46.97\n",
       "17.0   16869  7847.0   46.52\n",
       "18.0   17027  7861.0   46.17\n",
       "19.0   16892  7785.0   46.09\n",
       "20.0   17175  7996.0   46.56\n",
       "21.0    8670  8670.0  100.00\n",
       "22.0    8454  8454.0  100.00\n",
       "23.0    8323  8323.0  100.00\n",
       "24.0    8325  8325.0  100.00\n",
       "25.0    8362  8362.0  100.00\n",
       "26.0    8383  8383.0  100.00\n",
       "27.0    8178  8178.0  100.00\n",
       "28.0    8299  8299.0  100.00\n",
       "29.0    8446  8446.0  100.00\n",
       "30.0    8590  8590.0  100.00"
      ]
     },
     "execution_count": 44,
     "metadata": {},
     "output_type": "execute_result"
    }
   ],
   "source": [
    "np.round(delay_churn, decimals=2)"
   ]
  },
  {
   "cell_type": "markdown",
   "id": "1ed95061",
   "metadata": {},
   "source": [
    "Seems like greater delays (assuming in days) leads to directionally, higher churn rates. Customers who had more than a 20 day delay almost always churned. Longer time to pay could lead to less engagement with the product/less inclination to continue with the contract. "
   ]
  },
  {
   "cell_type": "markdown",
   "id": "d0f3cb18",
   "metadata": {},
   "source": [
    "##### Subscription Type"
   ]
  },
  {
   "cell_type": "code",
   "execution_count": 45,
   "id": "3b6bda47",
   "metadata": {},
   "outputs": [
    {
     "data": {
      "text/html": [
       "<div>\n",
       "<style scoped>\n",
       "    .dataframe tbody tr th:only-of-type {\n",
       "        vertical-align: middle;\n",
       "    }\n",
       "\n",
       "    .dataframe tbody tr th {\n",
       "        vertical-align: top;\n",
       "    }\n",
       "\n",
       "    .dataframe thead tr th {\n",
       "        text-align: left;\n",
       "    }\n",
       "\n",
       "    .dataframe thead tr:last-of-type th {\n",
       "        text-align: right;\n",
       "    }\n",
       "</style>\n",
       "<table border=\"1\" class=\"dataframe\">\n",
       "  <thead>\n",
       "    <tr>\n",
       "      <th></th>\n",
       "      <th colspan=\"2\" halign=\"left\">churn</th>\n",
       "      <th>%</th>\n",
       "    </tr>\n",
       "    <tr>\n",
       "      <th></th>\n",
       "      <th>count</th>\n",
       "      <th>sum</th>\n",
       "      <th></th>\n",
       "    </tr>\n",
       "    <tr>\n",
       "      <th>subscription</th>\n",
       "      <th></th>\n",
       "      <th></th>\n",
       "      <th></th>\n",
       "    </tr>\n",
       "  </thead>\n",
       "  <tbody>\n",
       "    <tr>\n",
       "      <th>Basic</th>\n",
       "      <td>143026</td>\n",
       "      <td>83210.0</td>\n",
       "      <td>58.18</td>\n",
       "    </tr>\n",
       "    <tr>\n",
       "      <th>Premium</th>\n",
       "      <td>148678</td>\n",
       "      <td>83173.0</td>\n",
       "      <td>55.94</td>\n",
       "    </tr>\n",
       "    <tr>\n",
       "      <th>Standard</th>\n",
       "      <td>149128</td>\n",
       "      <td>83616.0</td>\n",
       "      <td>56.07</td>\n",
       "    </tr>\n",
       "  </tbody>\n",
       "</table>\n",
       "</div>"
      ],
      "text/plain": [
       "               churn               %\n",
       "               count      sum       \n",
       "subscription                        \n",
       "Basic         143026  83210.0  58.18\n",
       "Premium       148678  83173.0  55.94\n",
       "Standard      149128  83616.0  56.07"
      ]
     },
     "execution_count": 45,
     "metadata": {},
     "output_type": "execute_result"
    }
   ],
   "source": [
    "subscription_churn = pd.pivot_table(df_train[['subscription', 'churn']], \n",
    "                                    index=['subscription'],values = ['churn'], aggfunc= {'churn': ['sum', 'count',]})\n",
    "subscription_churn.loc[:,'%'] = (subscription_churn['churn']['sum']/subscription_churn['churn']['count'])*100\n",
    "\n",
    "np.round(subscription_churn, decimals=2)"
   ]
  },
  {
   "cell_type": "markdown",
   "id": "f78ba2d8",
   "metadata": {},
   "source": [
    "Not as much association here - seems like the subscription plan doesn't really impact whether someone churns or not. Around the same proportion (55-58%) of people for each plan churn. Not really a great sign since this is more than half of customers for each plan.\n",
    "\n",
    "QUESTION: is there a timeframe for this dataset?"
   ]
  },
  {
   "cell_type": "markdown",
   "id": "e0271286",
   "metadata": {},
   "source": [
    "##### Contract Length"
   ]
  },
  {
   "cell_type": "code",
   "execution_count": 46,
   "id": "dbe90716",
   "metadata": {},
   "outputs": [
    {
     "data": {
      "text/html": [
       "<div>\n",
       "<style scoped>\n",
       "    .dataframe tbody tr th:only-of-type {\n",
       "        vertical-align: middle;\n",
       "    }\n",
       "\n",
       "    .dataframe tbody tr th {\n",
       "        vertical-align: top;\n",
       "    }\n",
       "\n",
       "    .dataframe thead tr th {\n",
       "        text-align: left;\n",
       "    }\n",
       "\n",
       "    .dataframe thead tr:last-of-type th {\n",
       "        text-align: right;\n",
       "    }\n",
       "</style>\n",
       "<table border=\"1\" class=\"dataframe\">\n",
       "  <thead>\n",
       "    <tr>\n",
       "      <th></th>\n",
       "      <th colspan=\"2\" halign=\"left\">churn</th>\n",
       "      <th>%</th>\n",
       "    </tr>\n",
       "    <tr>\n",
       "      <th></th>\n",
       "      <th>count</th>\n",
       "      <th>sum</th>\n",
       "      <th></th>\n",
       "    </tr>\n",
       "    <tr>\n",
       "      <th>contractlength</th>\n",
       "      <th></th>\n",
       "      <th></th>\n",
       "      <th></th>\n",
       "    </tr>\n",
       "  </thead>\n",
       "  <tbody>\n",
       "    <tr>\n",
       "      <th>Annual</th>\n",
       "      <td>177198</td>\n",
       "      <td>81646.0</td>\n",
       "      <td>46.08</td>\n",
       "    </tr>\n",
       "    <tr>\n",
       "      <th>Monthly</th>\n",
       "      <td>87104</td>\n",
       "      <td>87104.0</td>\n",
       "      <td>100.00</td>\n",
       "    </tr>\n",
       "    <tr>\n",
       "      <th>Quarterly</th>\n",
       "      <td>176530</td>\n",
       "      <td>81249.0</td>\n",
       "      <td>46.03</td>\n",
       "    </tr>\n",
       "  </tbody>\n",
       "</table>\n",
       "</div>"
      ],
      "text/plain": [
       "                 churn                %\n",
       "                 count      sum        \n",
       "contractlength                         \n",
       "Annual          177198  81646.0   46.08\n",
       "Monthly          87104  87104.0  100.00\n",
       "Quarterly       176530  81249.0   46.03"
      ]
     },
     "execution_count": 46,
     "metadata": {},
     "output_type": "execute_result"
    }
   ],
   "source": [
    "contractlength_churn = pd.pivot_table(df_train[['contractlength', 'churn']], \n",
    "                                      index=['contractlength'],values = ['churn'], \n",
    "                                      aggfunc= {'churn': ['sum', 'count',]})\n",
    "contractlength_churn.loc[:,'%'] = (contractlength_churn['churn']['sum']/contractlength_churn['churn']['count'])*100\n",
    "\n",
    "np.round(contractlength_churn, decimals=2)"
   ]
  },
  {
   "cell_type": "markdown",
   "id": "52f505c0",
   "metadata": {},
   "source": [
    "It seems that all customers on the monthly contract have churned. Model that's built based on this could impact the test data results if there were people who were on monthly contract but did not churn."
   ]
  },
  {
   "cell_type": "markdown",
   "id": "8d216b5b",
   "metadata": {},
   "source": [
    "##### Total Spend\n",
    "\n",
    "Grouped spend to see trends more easily"
   ]
  },
  {
   "cell_type": "code",
   "execution_count": 47,
   "id": "2ad8a2c2",
   "metadata": {},
   "outputs": [],
   "source": [
    "# group spend in 200s - train\n",
    "\n",
    "df_train.loc[(df_train['spend'] >= 0) & (df_train['spend'] < 200), 'spend_group'] = \"0-199\"\n",
    "df_train.loc[(df_train['spend'] >= 200) & (df_train['spend'] < 400), 'spend_group'] = \"200-399\"\n",
    "df_train.loc[(df_train['spend'] >= 400) & (df_train['spend'] < 600), 'spend_group'] = \"400-599\"\n",
    "df_train.loc[(df_train['spend'] >= 600) & (df_train['spend'] < 800), 'spend_group'] = \"600-799\"\n",
    "df_train.loc[(df_train['spend'] >= 800) & (df_train['spend'] <= 1000), 'spend_group'] = \"800-1000\"\n",
    "\n",
    "# group spend in 200s - test\n",
    "\n",
    "df_test.loc[(df_test['spend'] >= 0) & (df_test['spend'] < 200), 'spend_group'] = \"0-199\"\n",
    "df_test.loc[(df_test['spend'] >= 200) & (df_test['spend'] < 400), 'spend_group'] = \"200-399\"\n",
    "df_test.loc[(df_test['spend'] >= 400) & (df_test['spend'] < 600), 'spend_group'] = \"400-599\"\n",
    "df_test.loc[(df_test['spend'] >= 600) & (df_test['spend'] < 800), 'spend_group'] = \"600-799\"\n",
    "df_test.loc[(df_test['spend'] >= 800) & (df_test['spend'] <= 1000), 'spend_group'] = \"800-1000\""
   ]
  },
  {
   "cell_type": "code",
   "execution_count": 48,
   "id": "0cda8d9b",
   "metadata": {},
   "outputs": [
    {
     "data": {
      "text/html": [
       "<div>\n",
       "<style scoped>\n",
       "    .dataframe tbody tr th:only-of-type {\n",
       "        vertical-align: middle;\n",
       "    }\n",
       "\n",
       "    .dataframe tbody tr th {\n",
       "        vertical-align: top;\n",
       "    }\n",
       "\n",
       "    .dataframe thead tr th {\n",
       "        text-align: left;\n",
       "    }\n",
       "\n",
       "    .dataframe thead tr:last-of-type th {\n",
       "        text-align: right;\n",
       "    }\n",
       "</style>\n",
       "<table border=\"1\" class=\"dataframe\">\n",
       "  <thead>\n",
       "    <tr>\n",
       "      <th></th>\n",
       "      <th colspan=\"2\" halign=\"left\">churn</th>\n",
       "      <th>%</th>\n",
       "    </tr>\n",
       "    <tr>\n",
       "      <th></th>\n",
       "      <th>count</th>\n",
       "      <th>sum</th>\n",
       "      <th></th>\n",
       "    </tr>\n",
       "    <tr>\n",
       "      <th>spend_group</th>\n",
       "      <th></th>\n",
       "      <th></th>\n",
       "      <th></th>\n",
       "    </tr>\n",
       "  </thead>\n",
       "  <tbody>\n",
       "    <tr>\n",
       "      <th>0-199</th>\n",
       "      <td>28705</td>\n",
       "      <td>28705.0</td>\n",
       "      <td>100.000000</td>\n",
       "    </tr>\n",
       "    <tr>\n",
       "      <th>200-399</th>\n",
       "      <td>57930</td>\n",
       "      <td>57930.0</td>\n",
       "      <td>100.000000</td>\n",
       "    </tr>\n",
       "    <tr>\n",
       "      <th>400-599</th>\n",
       "      <td>94349</td>\n",
       "      <td>56180.0</td>\n",
       "      <td>59.544881</td>\n",
       "    </tr>\n",
       "    <tr>\n",
       "      <th>600-799</th>\n",
       "      <td>130091</td>\n",
       "      <td>53742.0</td>\n",
       "      <td>41.311082</td>\n",
       "    </tr>\n",
       "    <tr>\n",
       "      <th>800-1000</th>\n",
       "      <td>129757</td>\n",
       "      <td>53442.0</td>\n",
       "      <td>41.186217</td>\n",
       "    </tr>\n",
       "  </tbody>\n",
       "</table>\n",
       "</div>"
      ],
      "text/plain": [
       "              churn                    %\n",
       "              count      sum            \n",
       "spend_group                             \n",
       "0-199         28705  28705.0  100.000000\n",
       "200-399       57930  57930.0  100.000000\n",
       "400-599       94349  56180.0   59.544881\n",
       "600-799      130091  53742.0   41.311082\n",
       "800-1000     129757  53442.0   41.186217"
      ]
     },
     "execution_count": 48,
     "metadata": {},
     "output_type": "execute_result"
    }
   ],
   "source": [
    "spend_group_churn = pd.pivot_table(df_train[['spend_group', 'churn']], index=['spend_group'],values = ['churn'], aggfunc= {'churn': ['sum', 'count',]})\n",
    "spend_group_churn.loc[:,'%'] = (spend_group_churn['churn']['sum']/spend_group_churn['churn']['count'])*100\n",
    "#gender_churn['%'] = (gender_churn['sum']/gender_churn['count'])*100\n",
    "spend_group_churn"
   ]
  },
  {
   "cell_type": "code",
   "execution_count": 49,
   "id": "a45fb9bd",
   "metadata": {},
   "outputs": [
    {
     "data": {
      "text/html": [
       "<div>\n",
       "<style scoped>\n",
       "    .dataframe tbody tr th:only-of-type {\n",
       "        vertical-align: middle;\n",
       "    }\n",
       "\n",
       "    .dataframe tbody tr th {\n",
       "        vertical-align: top;\n",
       "    }\n",
       "\n",
       "    .dataframe thead tr th {\n",
       "        text-align: left;\n",
       "    }\n",
       "\n",
       "    .dataframe thead tr:last-of-type th {\n",
       "        text-align: right;\n",
       "    }\n",
       "</style>\n",
       "<table border=\"1\" class=\"dataframe\">\n",
       "  <thead>\n",
       "    <tr>\n",
       "      <th></th>\n",
       "      <th colspan=\"2\" halign=\"left\">churn</th>\n",
       "      <th>%</th>\n",
       "    </tr>\n",
       "    <tr>\n",
       "      <th></th>\n",
       "      <th>count</th>\n",
       "      <th>sum</th>\n",
       "      <th></th>\n",
       "    </tr>\n",
       "    <tr>\n",
       "      <th>spend_group</th>\n",
       "      <th></th>\n",
       "      <th></th>\n",
       "      <th></th>\n",
       "    </tr>\n",
       "  </thead>\n",
       "  <tbody>\n",
       "    <tr>\n",
       "      <th>0-199</th>\n",
       "      <td>7544</td>\n",
       "      <td>3975.0</td>\n",
       "      <td>52.690880</td>\n",
       "    </tr>\n",
       "    <tr>\n",
       "      <th>200-399</th>\n",
       "      <td>14869</td>\n",
       "      <td>7711.0</td>\n",
       "      <td>51.859574</td>\n",
       "    </tr>\n",
       "    <tr>\n",
       "      <th>400-599</th>\n",
       "      <td>14308</td>\n",
       "      <td>6835.0</td>\n",
       "      <td>47.770478</td>\n",
       "    </tr>\n",
       "    <tr>\n",
       "      <th>600-799</th>\n",
       "      <td>13707</td>\n",
       "      <td>5980.0</td>\n",
       "      <td>43.627344</td>\n",
       "    </tr>\n",
       "    <tr>\n",
       "      <th>800-1000</th>\n",
       "      <td>13930</td>\n",
       "      <td>5991.0</td>\n",
       "      <td>43.007897</td>\n",
       "    </tr>\n",
       "  </tbody>\n",
       "</table>\n",
       "</div>"
      ],
      "text/plain": [
       "             churn                  %\n",
       "             count     sum           \n",
       "spend_group                          \n",
       "0-199         7544  3975.0  52.690880\n",
       "200-399      14869  7711.0  51.859574\n",
       "400-599      14308  6835.0  47.770478\n",
       "600-799      13707  5980.0  43.627344\n",
       "800-1000     13930  5991.0  43.007897"
      ]
     },
     "execution_count": 49,
     "metadata": {},
     "output_type": "execute_result"
    }
   ],
   "source": [
    "spend_group_churn = pd.pivot_table(df_test[['spend_group', 'churn']], index=['spend_group'],values = ['churn'], aggfunc= {'churn': ['sum', 'count',]})\n",
    "spend_group_churn.loc[:,'%'] = (spend_group_churn['churn']['sum']/spend_group_churn['churn']['count'])*100\n",
    "#gender_churn['%'] = (gender_churn['sum']/gender_churn['count'])*100\n",
    "spend_group_churn"
   ]
  },
  {
   "cell_type": "markdown",
   "id": "0b03a9c3",
   "metadata": {},
   "source": [
    "It seems that the customers who have lower spend, specifically under 400 will likely churn. This is 100% but not so for the testing data - distribution is closer (43-52%)."
   ]
  },
  {
   "cell_type": "markdown",
   "id": "e198f945",
   "metadata": {},
   "source": [
    "##### Last Interaction"
   ]
  },
  {
   "cell_type": "code",
   "execution_count": 50,
   "id": "3b1c97f0",
   "metadata": {},
   "outputs": [],
   "source": [
    "# lastinteraction\n",
    "#df_train[['lastinteraction', 'churn']].groupby('lastinteraction').sum().plot(legend=True)"
   ]
  },
  {
   "cell_type": "code",
   "execution_count": 51,
   "id": "4fbd492d",
   "metadata": {},
   "outputs": [
    {
     "data": {
      "text/plain": [
       "Text(0, 0.5, '% Churn')"
      ]
     },
     "execution_count": 51,
     "metadata": {},
     "output_type": "execute_result"
    },
    {
     "data": {
      "image/png": "[encoded data removed]",
      "text/plain": [
       "<Figure size 640x480 with 1 Axes>"
      ]
     },
     "metadata": {},
     "output_type": "display_data"
    }
   ],
   "source": [
    "lastinteraction_churn = pd.pivot_table(df_train[['lastinteraction', 'churn']], index=['lastinteraction'],\n",
    "                                       values = ['churn'], aggfunc= {'churn': ['sum', 'count',]})\n",
    "lastinteraction_churn.loc[:,'%'] = (lastinteraction_churn['churn']['sum']/lastinteraction_churn['churn']['count'])*100\n",
    "#gender_churn['%'] = (gender_churn['sum']/gender_churn['count'])*100\n",
    "az = lastinteraction_churn['%'].plot()\n",
    "az.set_ylabel(\"% Churn\")"
   ]
  },
  {
   "cell_type": "markdown",
   "id": "740a0e80",
   "metadata": {},
   "source": [
    "Seems like the longer back there was interaction, specifically after 15 days, the significantly greater the likelihood of churn"
   ]
  },
  {
   "cell_type": "markdown",
   "id": "3374eb1b",
   "metadata": {},
   "source": [
    "## Set up Datasets\n",
    "\n",
    "Below we set up the categorical variables, converting them to numerical codes. Then, I set up the X and y training and test sets. I dropped the customer id and spend_group since id is a unique identifier and spend is already in the dataset."
   ]
  },
  {
   "cell_type": "code",
   "execution_count": 52,
   "id": "ee5a690b",
   "metadata": {},
   "outputs": [],
   "source": [
    "# convert object fields to categorical values for train\n",
    "df_train['gender'] = df_train['gender'].astype('category').cat.codes # 0 - female, 1 - male\n",
    "df_train['subscription'] = df_train['subscription'].astype('category').cat.codes # 0 - Basic, 1 - Prem, 2 - Standard\n",
    "df_train['contractlength'] = df_train['contractlength'].astype('category').cat.codes # 0 - Annual, 1 - Monthly, 2 - Quarterly\n",
    "df_train['spend_group'] = df_train['spend_group'].astype('category').cat.codes # 0 - Annual, 1 - Monthly, 2 - Quarterly\n",
    "\n",
    "\n",
    "# convert object fields to categorical values for test\n",
    "df_test['gender'] = df_test['gender'].astype('category').cat.codes # 0 - female, 1 - male\n",
    "df_test['subscription'] = df_test['subscription'].astype('category').cat.codes # 0 - Basic, 1 - Prem, 2 - Standard\n",
    "df_test['contractlength'] = df_test['contractlength'].astype('category').cat.codes # 0 - Annual, 1 - Monthly, 2 - Quarterly\n",
    "df_test['spend_group'] = df_test['spend_group'].astype('category').cat.codes"
   ]
  },
  {
   "cell_type": "code",
   "execution_count": 53,
   "id": "b304514f",
   "metadata": {},
   "outputs": [],
   "source": [
    "df_overall = pd.concat([df_train, df_test], axis=0) \n",
    "X = df_overall.drop(columns=['id', 'churn'])\n",
    "y = df_overall['churn']"
   ]
  },
  {
   "cell_type": "code",
   "execution_count": 54,
   "id": "1356127b",
   "metadata": {},
   "outputs": [],
   "source": [
    "X_train = df_train.drop(columns=['id', 'churn', 'spend_group']) # dropped customer id # try spend group later\n",
    "y_train = df_train['churn']\n",
    "X_test = df_test.drop(columns=['id', 'churn', 'spend_group'])\n",
    "y_test = df_test['churn']"
   ]
  },
  {
   "cell_type": "markdown",
   "id": "279b7810",
   "metadata": {},
   "source": [
    "## Modeling"
   ]
  },
  {
   "cell_type": "markdown",
   "id": "a94cd67f",
   "metadata": {},
   "source": [
    "### Method 1: Logistic Regression\n",
    "\n",
    "Here we look at the feature importance first"
   ]
  },
  {
   "cell_type": "code",
   "execution_count": 55,
   "id": "bf7f0959",
   "metadata": {},
   "outputs": [
    {
     "data": {
      "text/plain": [
       "<Axes: ylabel='Feature'>"
      ]
     },
     "execution_count": 55,
     "metadata": {},
     "output_type": "execute_result"
    },
    {
     "data": {
      "image/png": "[encoded data removed]",
      "text/plain": [
       "<Figure size 1000x600 with 1 Axes>"
      ]
     },
     "metadata": {},
     "output_type": "display_data"
    }
   ],
   "source": [
    "# for training set only\n",
    "from sklearn.preprocessing import StandardScaler\n",
    "from sklearn.linear_model import LogisticRegression\n",
    "scaler = StandardScaler()\n",
    "X_train_s = scaler.fit_transform(X_train)\n",
    "\n",
    "model = LogisticRegression()\n",
    "model.fit(X_train_s, y_train)\n",
    "\n",
    "\n",
    "coefficients = model.coef_[0]\n",
    "\n",
    "feature_importance = pd.DataFrame({'Feature': X_train.columns, 'Importance': np.abs(coefficients)})\n",
    "feature_importance = feature_importance.sort_values('Importance', ascending=True)\n",
    "feature_importance.plot(x='Feature', y='Importance', kind='barh', figsize=(10, 6))"
   ]
  },
  {
   "cell_type": "markdown",
   "id": "0ca2857e",
   "metadata": {},
   "source": [
    "Model and report accuracy - first scaled the dataset"
   ]
  },
  {
   "cell_type": "code",
   "execution_count": 56,
   "id": "1b1af9e5",
   "metadata": {},
   "outputs": [],
   "source": [
    "import numpy as np # based on coefficients of model THIS 70.6%\n",
    "import pandas as pd\n",
    "from sklearn.linear_model import LogisticRegression\n",
    "from sklearn.preprocessing import StandardScaler\n",
    "from sklearn import preprocessing\n",
    "from sklearn import metrics\n",
    "\n",
    "\n",
    "scaler = preprocessing.StandardScaler().fit(X_train[['gender', 'calls', 'delay', 'spend', 'lastinteraction']])\n",
    "X_train_scaled = scaler.transform(X_train[['gender', 'calls', 'delay', 'spend', 'lastinteraction']])\n",
    "scaler = preprocessing.StandardScaler().fit(X_test[['gender', 'calls', 'delay', 'spend', 'lastinteraction']])\n",
    "\n",
    "X_test_scaled = scaler.transform(X_test[['gender', 'calls', 'delay', 'spend', 'lastinteraction']])\n",
    "\n",
    "model = LogisticRegression()\n",
    "model.fit(X_train_scaled, y_train)\n",
    "coefficients = model.coef_"
   ]
  },
  {
   "cell_type": "code",
   "execution_count": 57,
   "id": "391fa727",
   "metadata": {},
   "outputs": [
    {
     "name": "stdout",
     "output_type": "stream",
     "text": [
      "Accuracy: 0.6904036794182541\n",
      "Precision: 0.6273040503096162\n",
      "Recall: 0.853830512921422\n",
      "F1 score: 0.7232446697687339\n"
     ]
    },
    {
     "data": {
      "text/plain": [
       "0.7724436270111604"
      ]
     },
     "execution_count": 57,
     "metadata": {},
     "output_type": "execute_result"
    }
   ],
   "source": [
    "from sklearn.metrics import accuracy_score, precision_score, recall_score, f1_score\n",
    "\n",
    "y_pred = model.predict(X_test_scaled)\n",
    "y_val = y_test\n",
    "accuracy = accuracy_score(y_val, y_pred)\n",
    "precision = precision_score(y_val, y_pred)\n",
    "recall = recall_score(y_val, y_pred)\n",
    "f1 = f1_score(y_val, y_pred)\n",
    "\n",
    "print(\"Accuracy:\", accuracy)\n",
    "print(\"Precision:\", precision)\n",
    "print(\"Recall:\", recall)\n",
    "print(\"F1 score:\", f1)\n",
    "\n",
    "y_pred_proba = model.predict_proba(X_test_scaled)[::,1]\n",
    "\n",
    "#calculate AUC of model\n",
    "auc = metrics.roc_auc_score(y_test, y_pred_proba)\n",
    "auc"
   ]
  },
  {
   "cell_type": "code",
   "execution_count": 58,
   "id": "78f92473",
   "metadata": {},
   "outputs": [
    {
     "name": "stdout",
     "output_type": "stream",
     "text": [
      "Cross-Validation Accuracy Scores [0.84572459 0.84883233 0.84871719 0.8490688  0.84963591]\n"
     ]
    },
    {
     "data": {
      "text/plain": [
       "(0.845724590833305, 0.8483957658123986, 0.8496359140711839)"
      ]
     },
     "execution_count": 58,
     "metadata": {},
     "output_type": "execute_result"
    }
   ],
   "source": [
    "from sklearn.model_selection import cross_val_score\n",
    "\n",
    "scores = cross_val_score(model, X_train_scaled, y_train, cv=5)\n",
    "print('Cross-Validation Accuracy Scores', scores)\n",
    "scores = pd.Series(scores)\n",
    "scores.min(), scores.mean(), scores.max()"
   ]
  },
  {
   "cell_type": "markdown",
   "id": "8ff26ca8",
   "metadata": {},
   "source": [
    "General accuracy range is around 84% based on cross-validation - on this test set, it's 69-70%. Not necessarily representative of the test data."
   ]
  },
  {
   "cell_type": "markdown",
   "id": "f2489f53",
   "metadata": {},
   "source": [
    "### Method 2: Decision Tree"
   ]
  },
  {
   "cell_type": "code",
   "execution_count": 59,
   "id": "9f0df442",
   "metadata": {},
   "outputs": [
    {
     "data": {
      "text/plain": [
       "0.6195810932595792"
      ]
     },
     "execution_count": 59,
     "metadata": {},
     "output_type": "execute_result"
    }
   ],
   "source": [
    "# decision trees\n",
    "from sklearn import tree\n",
    "\n",
    "decision_tree = tree.DecisionTreeClassifier()\n",
    "decision_tree = decision_tree.fit(X_train[['gender', 'calls', 'delay', 'tenure', 'frequency']], y_train)\n",
    "\n",
    "res_pred = decision_tree.predict(X_test[['gender', 'calls', 'delay', 'tenure', 'frequency']])\n",
    "accuracy_score(y_test, res_pred)"
   ]
  },
  {
   "cell_type": "markdown",
   "id": "0f68ead4",
   "metadata": {},
   "source": [
    "### Method 3: Extra Trees"
   ]
  },
  {
   "cell_type": "code",
   "execution_count": 60,
   "id": "90a3c34b",
   "metadata": {},
   "outputs": [
    {
     "data": {
      "text/plain": [
       "array([0.98608323, 0.98565223, 0.98804528, 0.98492616, 0.98683166])"
      ]
     },
     "execution_count": 60,
     "metadata": {},
     "output_type": "execute_result"
    }
   ],
   "source": [
    "# extra trees - Random Forests build multiple decision trees over bootstrapped subsets of \n",
    "# the data (samples with replacement), whereas Extra Trees algorithms build multiple decision trees \n",
    "# over the entire dataset\n",
    "# https://www.baeldung.com/cs/random-forest-vs-extremely-randomized-trees#:~:text=\n",
    "# Random%20Forests%20build%20multiple%20decision,ET%20randomizes%20the%20node%20split.\n",
    "\n",
    "from numpy import mean\n",
    "from numpy import std\n",
    "from sklearn.model_selection import cross_val_score\n",
    "from sklearn.ensemble import ExtraTreesClassifier\n",
    "\n",
    "model = ExtraTreesClassifier(n_estimators = 3, criterion = 'entropy') #In decision tree, it helps model in selection\n",
    "# of feature for splitting, at the node by measuring the purity of the split.\n",
    "model.fit(X_train,y_train)\n",
    "model.score(X_train,y_train)\n",
    "\n",
    "cross_val_score(model, X_train, y_train, cv = 5)\n"
   ]
  },
  {
   "cell_type": "code",
   "execution_count": 61,
   "id": "a8847ef9",
   "metadata": {},
   "outputs": [
    {
     "data": {
      "text/plain": [
       "<Axes: ylabel='allvarlist'>"
      ]
     },
     "execution_count": 61,
     "metadata": {},
     "output_type": "execute_result"
    },
    {
     "data": {
      "image/png": "[encoded data removed]",
      "text/plain": [
       "<Figure size 640x480 with 1 Axes>"
      ]
     },
     "metadata": {},
     "output_type": "display_data"
    }
   ],
   "source": [
    "feature_importance = model.feature_importances_\n",
    "feature_importance_normalized = np.std([tree.feature_importances_ for tree in model.estimators_], axis = 0)\n",
    "\n",
    "df3=pd.DataFrame({'allvarlist':X_train.columns,'importances':feature_importance_normalized})\n",
    "df3.sort_values('importances',inplace=True)\n",
    "df3.plot(kind='barh',y='importances',x='allvarlist',color='r')"
   ]
  },
  {
   "cell_type": "code",
   "execution_count": 62,
   "id": "8d2be423",
   "metadata": {},
   "outputs": [
    {
     "data": {
      "text/plain": [
       "0.5118089437210603"
      ]
     },
     "execution_count": 62,
     "metadata": {},
     "output_type": "execute_result"
    }
   ],
   "source": [
    "y_pred = (model.predict_proba(X_test)[:,1] >= 0.5).astype(bool)\n",
    "metrics.accuracy_score(y_test, y_pred)"
   ]
  },
  {
   "cell_type": "markdown",
   "id": "f278e4b2",
   "metadata": {},
   "source": [
    "Logistic Regression model performs better overall. Below, we look at the overall correlation between each pair of variables."
   ]
  },
  {
   "cell_type": "markdown",
   "id": "1ed4d729",
   "metadata": {},
   "source": [
    "### Comparing Associations"
   ]
  },
  {
   "cell_type": "code",
   "execution_count": 63,
   "id": "bd260258",
   "metadata": {},
   "outputs": [
    {
     "data": {
      "image/png": "[encoded data removed]",
      "text/plain": [
       "<Figure size 1200x800 with 2 Axes>"
      ]
     },
     "metadata": {},
     "output_type": "display_data"
    }
   ],
   "source": [
    "from sklearn.preprocessing import LabelEncoder\n",
    "labelencoder=LabelEncoder()\n",
    "for column in df_train.columns:\n",
    "    df_train[column] = labelencoder.fit_transform(df_train[column])\n",
    "plt.figure(figsize=(12,8))\n",
    "sns.heatmap(df_train.drop(columns = ['id']).corr(),linewidths=.1,cmap=\"YlGnBu\", annot=True)\n",
    "plt.yticks(rotation=0);"
   ]
  },
  {
   "cell_type": "markdown",
   "id": "c175302a",
   "metadata": {},
   "source": [
    "From both the modeling and the correlation heatmap above, it seems that the top indicators of churn are calls, delay, and spend. Calls has the strongest association with churn at 0.57, followed by spend (inverse relationship at -0.4), and then payment delay at 0.31. "
   ]
  },
  {
   "cell_type": "markdown",
   "id": "fdbdb5f5",
   "metadata": {},
   "source": [
    "### Appendix "
   ]
  },
  {
   "cell_type": "code",
   "execution_count": 64,
   "id": "e969fe17",
   "metadata": {},
   "outputs": [],
   "source": [
    "# contractlength_churn = pd.pivot_table(df_train[['calls', 'delay', 'churn']], \n",
    "# index=[ 'calls', 'delay'],values = ['churn'], aggfunc= {'churn': ['sum', 'count',]})\n",
    "# contractlength_churn.loc[:,'%'] = (contractlength_churn['churn']['sum']/contractlength_churn['churn']['count'])*100\n",
    "\n",
    "# print(contractlength_churn.to_string())\n",
    "\n",
    "# # calls and spend\n"
   ]
  },
  {
   "cell_type": "code",
   "execution_count": 65,
   "id": "39a56929",
   "metadata": {},
   "outputs": [],
   "source": [
    "# df_overall = pd.concat([df_train, df_test], axis=0) \n",
    "\n",
    "# contractlength_churn = pd.pivot_table(df_train[['lastinteraction',  'churn']], \n",
    "# index=[ 'lastinteraction'],values = ['churn'], aggfunc= {'churn': ['sum', 'count',]})\n",
    "# contractlength_churn.loc[:,'%'] = (contractlength_churn['churn']['sum']/contractlength_churn['churn']['count'])*100\n",
    "\n",
    "# contractlength_churn\n",
    "# print(contractlength_churn.to_string())\n",
    "\n",
    "# calls and spend\n"
   ]
  },
  {
   "cell_type": "code",
   "execution_count": 66,
   "id": "8f6aaad6",
   "metadata": {},
   "outputs": [],
   "source": [
    "# df_overall = pd.concat([df_train, df_test], axis=0) \n",
    "\n",
    "# contractlength_churn = pd.pivot_table(df_overall[['spend' ,'churn']], index=['spend'],\n",
    "# values = ['churn'], aggfunc= {'churn': ['sum', 'count',]})\n",
    "# contractlength_churn.loc[:,'%'] = (contractlength_churn['churn']['sum']/contractlength_churn['churn']['count'])*100\n",
    "\n",
    "# calls and spend\n"
   ]
  },
  {
   "cell_type": "code",
   "execution_count": 67,
   "id": "defb6b5c",
   "metadata": {},
   "outputs": [],
   "source": [
    "#c = df_train['contractlength'].astype('category')\n",
    "\n",
    "#d = dict(enumerate(c.cat.categories))\n",
    "# print (d)"
   ]
  },
  {
   "cell_type": "code",
   "execution_count": 68,
   "id": "299c63d8",
   "metadata": {},
   "outputs": [],
   "source": [
    "# # for test set only\n",
    "# scaler = StandardScaler()\n",
    "\n",
    "# X_test_s = scaler.fit_transform(X_test)\n",
    "\n",
    "# model = LogisticRegression()\n",
    "# model.fit(X_test_s, y_test)\n",
    "\n",
    "\n",
    "# coefficients = model.coef_[0]\n",
    "\n",
    "# feature_importance = pd.DataFrame({'Feature': X_test.columns, 'Importance': np.abs(coefficients)})\n",
    "# feature_importance = feature_importance.sort_values('Importance', ascending=True)\n",
    "# feature_importance.plot(x='Feature', y='Importance', kind='barh', figsize=(10, 6))"
   ]
  },
  {
   "cell_type": "code",
   "execution_count": 69,
   "id": "6e994f42",
   "metadata": {},
   "outputs": [],
   "source": [
    "# # for whole dataset\n",
    "# scaler = StandardScaler()\n",
    "# X_train_s = scaler.fit_transform(X)\n",
    "\n",
    "# model = LogisticRegression()\n",
    "# model.fit(X_train_s, y)\n",
    "\n",
    "\n",
    "# coefficients = model.coef_[0]\n",
    "\n",
    "# feature_importance = pd.DataFrame({'Feature': X.columns, 'Importance': np.abs(coefficients)})\n",
    "# feature_importance = feature_importance.sort_values('Importance', ascending=True)\n",
    "# feature_importance.plot(x='Feature', y='Importance', kind='barh', figsize=(10, 6))\n",
    "# # loyalty programs only if most customers who churned are on shorter contract lengths"
   ]
  },
  {
   "cell_type": "code",
   "execution_count": 70,
   "id": "aa7459a2",
   "metadata": {},
   "outputs": [],
   "source": [
    "# import numpy as np # based on coefficients of model THIS 70.6%\n",
    "# import pandas as pd\n",
    "# from sklearn.linear_model import LogisticRegression\n",
    "# from sklearn.preprocessing import StandardScaler\n",
    "# from sklearn import preprocessing\n",
    "# from sklearn import metrics\n",
    "\n",
    "\n",
    "# scaler = preprocessing.StandardScaler().fit(X_train[['gender', 'calls', 'delay', 'tenure', 'frequency']])\n",
    "# X_train_scaled = scaler.transform(X_train[['gender', 'calls', 'delay', 'tenure', 'frequency']])\n",
    "# scaler = preprocessing.StandardScaler().fit(X_test[['gender', 'calls', 'delay', 'tenure', 'frequency']])\n",
    "\n",
    "# X_test_scaled = scaler.transform(X_test[['gender', 'calls', 'delay', 'tenure', 'frequency']])\n",
    "\n",
    "# model = LogisticRegression()\n",
    "# model.fit(X_train_scaled, y_train)\n",
    "# coefficients = model.coef_"
   ]
  },
  {
   "cell_type": "code",
   "execution_count": 71,
   "id": "b72ae6e7",
   "metadata": {},
   "outputs": [],
   "source": [
    "# # set up training and validation set\n",
    "# from sklearn.model_selection import train_test_split\n",
    "\n",
    "# x_train_1, x_val, y_train_1, y_val = train_test_split(X_train, y_train, test_size=0.25, random_state=4)"
   ]
  },
  {
   "cell_type": "code",
   "execution_count": 72,
   "id": "c186b853",
   "metadata": {},
   "outputs": [],
   "source": [
    "# import numpy as np # apply cross-val to separate validation set here\n",
    "# import pandas as pd\n",
    "# from sklearn.linear_model import LogisticRegression\n",
    "# from sklearn.preprocessing import StandardScaler\n",
    "# from sklearn import preprocessing\n",
    "# from sklearn import metrics\n",
    "\n",
    "\n",
    "# scaler = preprocessing.StandardScaler().fit(x_train_1[['gender', 'calls', 'delay', 'spend', 'lastinteraction']])\n",
    "# X_train_scaled = scaler.transform(x_train_1[['gender', 'calls', 'delay', 'spend', 'lastinteraction']])\n",
    "# scaler = preprocessing.StandardScaler().fit(x_val[['gender', 'calls', 'delay', 'spend', 'lastinteraction']])\n",
    "\n",
    "# X_val_scaled = scaler.transform(x_val[['gender', 'calls', 'delay', 'spend', 'lastinteraction']])\n",
    "\n",
    "# model = LogisticRegression()\n",
    "# model.fit(X_train_scaled, y_train_1)\n",
    "# coefficients = model.coef_\n",
    "\n",
    "\n",
    "# from sklearn.model_selection import cross_val_score\n",
    "\n",
    "# scores = cross_val_score(model, x_val, y_val, cv=5)\n",
    "# print('Cross-Validation Accuracy Scores', scores)\n",
    "# scores = pd.Series(scores)\n",
    "# scores.min(), scores.mean(), scores.max()"
   ]
  }
 ],
 "metadata": {
  "kernelspec": {
   "display_name": "Python 3 (ipykernel)",
   "language": "python",
   "name": "python3"
  },
  "language_info": {
   "codemirror_mode": {
    "name": "ipython",
    "version": 3
   },
   "file_extension": ".py",
   "mimetype": "text/x-python",
   "name": "python",
   "nbconvert_exporter": "python",
   "pygments_lexer": "ipython3",
   "version": "3.11.5"
  }
 },
 "nbformat": 4,
 "nbformat_minor": 5
}
